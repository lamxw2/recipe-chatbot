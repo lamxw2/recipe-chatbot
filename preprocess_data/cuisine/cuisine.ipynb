{
 "metadata": {
  "language_info": {
   "codemirror_mode": {
    "name": "ipython",
    "version": 3
   },
   "file_extension": ".py",
   "mimetype": "text/x-python",
   "name": "python",
   "nbconvert_exporter": "python",
   "pygments_lexer": "ipython3",
   "version": "3.8.3"
  },
  "orig_nbformat": 4,
  "kernelspec": {
   "name": "python3",
   "display_name": "Python 3.8.3 64-bit ('fyp_env': venv)"
  },
  "interpreter": {
   "hash": "3a66e419d22504a4501676d1f1397da5fafd72891f52ea32c3057ba7dfe90c5e"
  }
 },
 "nbformat": 4,
 "nbformat_minor": 2,
 "cells": [
  {
   "cell_type": "code",
   "execution_count": 11,
   "source": [
    "import json"
   ],
   "outputs": [],
   "metadata": {}
  },
  {
   "cell_type": "code",
   "execution_count": 12,
   "source": [
    "# Opening JSON file\n",
    "cuisine_file1 = open('train.json',)\n",
    "  \n",
    "cuisine_train = json.load(cuisine_file1)\n",
    "\n",
    "df_list = []\n",
    "for item in cuisine_train:\n",
    "    df_list.append(item['cuisine'])\n",
    "  \n",
    "# Closing file\n",
    "cuisine_file1.close()"
   ],
   "outputs": [],
   "metadata": {}
  },
  {
   "cell_type": "code",
   "execution_count": 3,
   "source": [
    "import pandas as pd"
   ],
   "outputs": [],
   "metadata": {}
  },
  {
   "cell_type": "code",
   "execution_count": 13,
   "source": [
    "df = pd.DataFrame(df_list, columns=['CUISINE DESCRIPTION'])\n",
    "len(df.index)"
   ],
   "outputs": [
    {
     "output_type": "execute_result",
     "data": {
      "text/plain": [
       "39774"
      ]
     },
     "metadata": {},
     "execution_count": 13
    }
   ],
   "metadata": {}
  },
  {
   "cell_type": "code",
   "execution_count": 14,
   "source": [
    "df = df.drop_duplicates()\n",
    "len(df.index)"
   ],
   "outputs": [
    {
     "output_type": "execute_result",
     "data": {
      "text/plain": [
       "20"
      ]
     },
     "metadata": {},
     "execution_count": 14
    }
   ],
   "metadata": {}
  },
  {
   "cell_type": "code",
   "execution_count": 15,
   "source": [
    "print(df)"
   ],
   "outputs": [
    {
     "output_type": "stream",
     "name": "stdout",
     "text": [
      "    CUISINE DESCRIPTION\n",
      "0                 greek\n",
      "1           southern_us\n",
      "2              filipino\n",
      "3                indian\n",
      "5              jamaican\n",
      "6               spanish\n",
      "7               italian\n",
      "8               mexican\n",
      "11              chinese\n",
      "16              british\n",
      "18                 thai\n",
      "19           vietnamese\n",
      "26         cajun_creole\n",
      "41            brazilian\n",
      "46               french\n",
      "50             japanese\n",
      "59                irish\n",
      "66               korean\n",
      "72             moroccan\n",
      "369             russian\n"
     ]
    }
   ],
   "metadata": {}
  },
  {
   "cell_type": "code",
   "execution_count": 1,
   "source": [
    "import pandas as pd"
   ],
   "outputs": [],
   "metadata": {}
  },
  {
   "cell_type": "code",
   "execution_count": 16,
   "source": [
    "restaurant = pd.read_csv(\"DOHMH_New_York_City_Restaurant_Inspection_Results.csv\")"
   ],
   "outputs": [],
   "metadata": {}
  },
  {
   "cell_type": "code",
   "execution_count": 17,
   "source": [
    "restaurant.columns"
   ],
   "outputs": [
    {
     "output_type": "execute_result",
     "data": {
      "text/plain": [
       "Index(['CAMIS', 'DBA', 'BORO', 'BUILDING', 'STREET', 'ZIPCODE', 'PHONE',\n",
       "       'CUISINE DESCRIPTION', 'INSPECTION DATE', 'ACTION', 'VIOLATION CODE',\n",
       "       'VIOLATION DESCRIPTION', 'CRITICAL FLAG', 'SCORE', 'GRADE',\n",
       "       'GRADE DATE', 'RECORD DATE', 'INSPECTION TYPE'],\n",
       "      dtype='object')"
      ]
     },
     "metadata": {},
     "execution_count": 17
    }
   ],
   "metadata": {}
  },
  {
   "cell_type": "code",
   "execution_count": 18,
   "source": [
    "restaurant.drop(columns=['CAMIS', 'DBA', 'BORO', 'BUILDING', 'STREET', 'ZIPCODE','PHONE', 'INSPECTION DATE', 'ACTION', 'VIOLATION CODE',\n",
    "       'VIOLATION DESCRIPTION', 'CRITICAL FLAG', 'SCORE', 'GRADE',\n",
    "       'GRADE DATE', 'RECORD DATE', 'INSPECTION TYPE'], inplace=True)"
   ],
   "outputs": [],
   "metadata": {}
  },
  {
   "cell_type": "code",
   "execution_count": 19,
   "source": [
    "len(restaurant.index)"
   ],
   "outputs": [
    {
     "output_type": "execute_result",
     "data": {
      "text/plain": [
       "399918"
      ]
     },
     "metadata": {},
     "execution_count": 19
    }
   ],
   "metadata": {}
  },
  {
   "cell_type": "code",
   "execution_count": 20,
   "source": [
    "restaurant = restaurant.drop_duplicates()\n",
    "len(restaurant.index)"
   ],
   "outputs": [
    {
     "output_type": "execute_result",
     "data": {
      "text/plain": [
       "84"
      ]
     },
     "metadata": {},
     "execution_count": 20
    }
   ],
   "metadata": {}
  },
  {
   "cell_type": "code",
   "execution_count": 21,
   "source": [
    "restaurant.head()"
   ],
   "outputs": [
    {
     "output_type": "execute_result",
     "data": {
      "text/plain": [
       "  CUISINE DESCRIPTION\n",
       "0             Italian\n",
       "3             Chinese\n",
       "4            American\n",
       "5           Pakistani\n",
       "9            Japanese"
      ],
      "text/html": [
       "<div>\n",
       "<style scoped>\n",
       "    .dataframe tbody tr th:only-of-type {\n",
       "        vertical-align: middle;\n",
       "    }\n",
       "\n",
       "    .dataframe tbody tr th {\n",
       "        vertical-align: top;\n",
       "    }\n",
       "\n",
       "    .dataframe thead th {\n",
       "        text-align: right;\n",
       "    }\n",
       "</style>\n",
       "<table border=\"1\" class=\"dataframe\">\n",
       "  <thead>\n",
       "    <tr style=\"text-align: right;\">\n",
       "      <th></th>\n",
       "      <th>CUISINE DESCRIPTION</th>\n",
       "    </tr>\n",
       "  </thead>\n",
       "  <tbody>\n",
       "    <tr>\n",
       "      <th>0</th>\n",
       "      <td>Italian</td>\n",
       "    </tr>\n",
       "    <tr>\n",
       "      <th>3</th>\n",
       "      <td>Chinese</td>\n",
       "    </tr>\n",
       "    <tr>\n",
       "      <th>4</th>\n",
       "      <td>American</td>\n",
       "    </tr>\n",
       "    <tr>\n",
       "      <th>5</th>\n",
       "      <td>Pakistani</td>\n",
       "    </tr>\n",
       "    <tr>\n",
       "      <th>9</th>\n",
       "      <td>Japanese</td>\n",
       "    </tr>\n",
       "  </tbody>\n",
       "</table>\n",
       "</div>"
      ]
     },
     "metadata": {},
     "execution_count": 21
    }
   ],
   "metadata": {}
  },
  {
   "cell_type": "code",
   "execution_count": 11,
   "source": [
    "print(restaurant)"
   ],
   "outputs": [
    {
     "output_type": "stream",
     "name": "stdout",
     "text": [
      "      CUISINE DESCRIPTION\n",
      "0                 Italian\n",
      "3                 Chinese\n",
      "4                American\n",
      "5               Pakistani\n",
      "9                Japanese\n",
      "...                   ...\n",
      "3857         Creole/Cajun\n",
      "4468           Portuguese\n",
      "5418              Iranian\n",
      "9040           Polynesian\n",
      "20311               Czech\n",
      "\n",
      "[84 rows x 1 columns]\n"
     ]
    }
   ],
   "metadata": {}
  },
  {
   "cell_type": "code",
   "execution_count": 22,
   "source": [
    "cuisine_df = pd.concat([restaurant, df])"
   ],
   "outputs": [],
   "metadata": {}
  },
  {
   "cell_type": "code",
   "execution_count": 25,
   "source": [
    "print(len(cuisine_df.index))\n",
    "cuisine_df['CUISINE DESCRIPTION'] = cuisine_df['CUISINE DESCRIPTION'].str.lower()\n",
    "cuisine_df = cuisine_df.drop_duplicates()\n",
    "print(len(cuisine_df.index))"
   ],
   "outputs": [
    {
     "output_type": "stream",
     "name": "stdout",
     "text": [
      "104\n",
      "89\n"
     ]
    }
   ],
   "metadata": {}
  },
  {
   "cell_type": "code",
   "execution_count": 26,
   "source": [
    "print(cuisine_df)"
   ],
   "outputs": [
    {
     "output_type": "stream",
     "name": "stdout",
     "text": [
      "   CUISINE DESCRIPTION\n",
      "0              italian\n",
      "3              chinese\n",
      "4             american\n",
      "5            pakistani\n",
      "9             japanese\n",
      "..                 ...\n",
      "1          southern_us\n",
      "5             jamaican\n",
      "16             british\n",
      "19          vietnamese\n",
      "26        cajun_creole\n",
      "\n",
      "[89 rows x 1 columns]\n"
     ]
    }
   ],
   "metadata": {}
  },
  {
   "cell_type": "code",
   "execution_count": 23,
   "source": [
    "df.columns = ['CUISINE DESCRIPTION']\n",
    "print(df)"
   ],
   "outputs": [
    {
     "output_type": "stream",
     "name": "stdout",
     "text": [
      "    CUISINE DESCRIPTION\n",
      "0                 greek\n",
      "1           southern_us\n",
      "2              filipino\n",
      "3                indian\n",
      "5              jamaican\n",
      "6               spanish\n",
      "7               italian\n",
      "8               mexican\n",
      "11              chinese\n",
      "16              british\n",
      "18                 thai\n",
      "19           vietnamese\n",
      "26         cajun_creole\n",
      "41            brazilian\n",
      "46               french\n",
      "50             japanese\n",
      "59                irish\n",
      "66               korean\n",
      "72             moroccan\n",
      "369             russian\n"
     ]
    }
   ],
   "metadata": {}
  },
  {
   "cell_type": "code",
   "execution_count": 30,
   "source": [
    "cuisine_df['CUISINE DESCRIPTION'] = cuisine_df['CUISINE DESCRIPTION'].str.lower()"
   ],
   "outputs": [],
   "metadata": {}
  },
  {
   "cell_type": "code",
   "execution_count": 32,
   "source": [
    "# Write all food items to .txt files in yml format\n",
    "def write_to_textfile(list_to_convert, file_name):\n",
    "\n",
    "    with open(f\"{file_name}.txt\", 'w') as f:\n",
    "        # File header\n",
    "        f.write(\"nlu:\\n\" + \n",
    "                f\"- lookup: {file_name}\\n\" +\n",
    "                \"  examples: |\\n\")\n",
    "        # Write food items\n",
    "        for item in list_to_convert:\n",
    "            f.write(f\"    - {item}\\n\")\n",
    "    \n",
    "    print(f\"{file_name}.txt has been saved.\")"
   ],
   "outputs": [],
   "metadata": {}
  },
  {
   "cell_type": "code",
   "execution_count": 36,
   "source": [
    "cuisines = cuisine_df['CUISINE DESCRIPTION'].tolist()\n",
    "write_to_textfile(cuisines, \"cuisine\")"
   ],
   "outputs": [
    {
     "output_type": "stream",
     "name": "stdout",
     "text": [
      "cuisine.txt has been saved.\n"
     ]
    }
   ],
   "metadata": {}
  },
  {
   "cell_type": "code",
   "execution_count": 1,
   "source": [
    "cuisine_df.to_pickle('cuisine_dataset.pkl')"
   ],
   "outputs": [
    {
     "output_type": "error",
     "ename": "NameError",
     "evalue": "name 'cuisine_df' is not defined",
     "traceback": [
      "\u001b[0;31m---------------------------------------------------------------------------\u001b[0m",
      "\u001b[0;31mNameError\u001b[0m                                 Traceback (most recent call last)",
      "\u001b[0;32m/tmp/ipykernel_7802/3645651046.py\u001b[0m in \u001b[0;36m<module>\u001b[0;34m\u001b[0m\n\u001b[0;32m----> 1\u001b[0;31m \u001b[0mcuisine_df\u001b[0m\u001b[0;34m.\u001b[0m\u001b[0mto_pickle\u001b[0m\u001b[0;34m(\u001b[0m\u001b[0;34m'cuisine_dataset.pkl'\u001b[0m\u001b[0;34m)\u001b[0m\u001b[0;34m\u001b[0m\u001b[0;34m\u001b[0m\u001b[0m\n\u001b[0m",
      "\u001b[0;31mNameError\u001b[0m: name 'cuisine_df' is not defined"
     ]
    }
   ],
   "metadata": {}
  },
  {
   "cell_type": "code",
   "execution_count": null,
   "source": [
    "# dishes\n",
    "- seafood\n",
    "- pizza\n",
    "- soul food\n",
    "- bagels/pretzels\n",
    "- steak\n",
    "- tapas\n",
    "- hamburgers\n",
    "- coffee/tea\n",
    "    - salads\n",
    "        - donuts\n",
    "    - delicatessen\n",
    "        - sandwiches\n",
    "        - bottled beverages, including water, sodas, juices, etc.\n",
    "            - ice cream, gelato, yogurt, ices\n",
    "                - juice, smoothies, fruit salads\n",
    "                    - hotdogs\n",
    "    - soups\n",
    "    - hotdogs/pretzels\n",
    "        - pancakes/waffles"
   ],
   "outputs": [],
   "metadata": {}
  },
  {
   "cell_type": "code",
   "execution_count": null,
   "source": [
    "latin (cuban, dominican, puerto rican, south & central american)"
   ],
   "outputs": [],
   "metadata": {}
  },
  {
   "cell_type": "code",
   "execution_count": null,
   "source": [
    "# dietary\n",
    "   - vegetarian\n",
    "       - jewish/kosher"
   ],
   "outputs": [],
   "metadata": {}
  }
 ]
}