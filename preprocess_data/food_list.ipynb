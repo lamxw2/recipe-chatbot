{
 "metadata": {
  "language_info": {
   "codemirror_mode": {
    "name": "ipython",
    "version": 3
   },
   "file_extension": ".py",
   "mimetype": "text/x-python",
   "name": "python",
   "nbconvert_exporter": "python",
   "pygments_lexer": "ipython3",
   "version": "3.8.3"
  },
  "orig_nbformat": 4,
  "kernelspec": {
   "name": "python3",
   "display_name": "Python 3.8.3 64-bit ('fyp_env': venv)"
  },
  "interpreter": {
   "hash": "3a66e419d22504a4501676d1f1397da5fafd72891f52ea32c3057ba7dfe90c5e"
  }
 },
 "nbformat": 4,
 "nbformat_minor": 2,
 "cells": [
  {
   "cell_type": "markdown",
   "source": [
    "# Creating Dataset of Food Items\n",
    "This list will be used in the chatbot to provide lookup tables of food items. The data is taken from the appendix of https://www.dietaryguidelines.gov/sites/default/files/2020-12/Dietary_Guidelines_for_Americans_2020-2025.pdf.\n",
    "\n",
    "Each food item will be categorized by their food groups as determined by USDA:\n",
    "\n",
    "* Vegetables\n",
    "* Fruits\n",
    "* Grains\n",
    "* Dairy\n",
    "* Protein Foods\n",
    "\n",
    "The dataset will then be converted to a .txt file to be used in Rasa's NLU training data."
   ],
   "metadata": {}
  },
  {
   "cell_type": "code",
   "execution_count": 1,
   "source": [
    "import pandas as pd\n",
    "import matplotlib\n",
    "import seaborn as sns\n",
    "import numpy as np"
   ],
   "outputs": [],
   "metadata": {}
  },
  {
   "cell_type": "markdown",
   "source": [
    "## Pre-processing List of Vegetables in their sub-groups\n",
    "\n",
    "I will convert strings of food items in their sub-groups to a list of food items, removing unnecessary words and whitespaces."
   ],
   "metadata": {}
  },
  {
   "cell_type": "code",
   "execution_count": 110,
   "source": [
    "dark_green_vegetables = \"amaranth leaves, basil, beet greens, bitter melon leaves, bok choy, broccoli, chamnamul, chrysanthemum leaves, chard, cilantro, collards, cress, dandelion greens, kale, lambsquarters, mustard greens, poke greens, romaine lettuce, spinach, nettles, taro leaves, turnip greens, and watercress\"\n",
    "\n",
    "red_orange_vegetables = \"calabaza, carrots, red chili peppers, red or orange bell peppers, pimento/pimiento, sweet potatoes, tomatoes, 100% tomato juice, and winter squash such as acorn, butternut, kabocha, and pumpkin\"\n",
    "\n",
    "pulses = \"black beans, black-eyed peas, bayo beans, brown beans, chickpeas (garbanzo beans), cowpeas, edamame, fava beans, kidney beans, lentils, lima beans, mung beans, navy beans, pigeon peas, pink beans, pinto beans, split peas, soybeans, and white beans\"\n",
    "\n",
    "starchy_vegetables = \"breadfruit, burdock root, cassava, corn, jicama, lotus root, lima beans, immature or raw (not dried) peas (e.g., cowpeas, black-eyed peas, green peas, pigeon peas), plantains, white potatoes, salsify, tapioca, taro root (dasheen or yautia), water chestnuts, yam, and yucca\"\n",
    "\n",
    "others_vegetables = \"artichoke, asparagus, avocado, bamboo shoots, bean sprouts, beets, bitter melon (bitter gourd, balsam pear), broccoflower, Brussels sprouts, cabbage, cactus pads (nopales), cauliflower, celeriac, celery, chayote (mirliton), chives, cucumber, eggplant, fennel bulb, garlic, ginger root, green beans, iceberg lettuce, kohlrabi, leeks, luffa (Chinese okra), mushrooms, okra, onions, green chili peppers, green bell peppers, radicchio, sprouted beans, radish, rutabaga, seaweed, snow peas, summer squash, tomatillos, turnips, and winter melons\""
   ],
   "outputs": [],
   "metadata": {}
  },
  {
   "cell_type": "code",
   "execution_count": 111,
   "source": [
    "# Remove the word 'and', split string by comma\n",
    "dark_green_vegetables = dark_green_vegetables.replace('and', '').split(\",\")\n",
    "# Remove whitespaces at start and end of each food item\n",
    "dark_green_vegetables = [x.strip() for x in dark_green_vegetables]\n",
    "print(dark_green_vegetables)"
   ],
   "outputs": [
    {
     "output_type": "stream",
     "name": "stdout",
     "text": [
      "['amaranth leaves', 'basil', 'beet greens', 'bitter melon leaves', 'bok choy', 'broccoli', 'chamnamul', 'chrysanthemum leaves', 'chard', 'cilantro', 'collards', 'cress', 'delion greens', 'kale', 'lambsquarters', 'mustard greens', 'poke greens', 'romaine lettuce', 'spinach', 'nettles', 'taro leaves', 'turnip greens', 'watercress']\n"
     ]
    }
   ],
   "metadata": {}
  },
  {
   "cell_type": "code",
   "execution_count": 112,
   "source": [
    "# Remove the word 'and', split string by comma\n",
    "red_orange_vegetables = red_orange_vegetables.replace('and', '').split(\",\")\n",
    "# Remove whitespaces at start and end of each food item\n",
    "red_orange_vegetables = [x.strip() for x in red_orange_vegetables]\n",
    "print(red_orange_vegetables)"
   ],
   "outputs": [
    {
     "output_type": "stream",
     "name": "stdout",
     "text": [
      "['calabaza', 'carrots', 'red chili peppers', 'red or orange bell peppers', 'pimento/pimiento', 'sweet potatoes', 'tomatoes', '100% tomato juice', 'winter squash such as acorn', 'butternut', 'kabocha', 'pumpkin']\n"
     ]
    }
   ],
   "metadata": {}
  },
  {
   "cell_type": "code",
   "execution_count": 113,
   "source": [
    "temp = []\n",
    "\n",
    "for veg in red_orange_vegetables:\n",
    "    \n",
    "    # Split \"red or orange bell peppers\" into 2 separate items\n",
    "    if \"bell peppers\" in veg:\n",
    "        temp.append(\"red bell peppers\")\n",
    "        temp.append(\"orange bell peppers\")\n",
    "    # Remove \"winter squash such as\" and rename \"acorn\" to \"acorn squash\"\n",
    "    elif \"winter\" in veg:\n",
    "        temp.append(\"acorn squash\")\n",
    "    # Rename \"butternut\" to \"butternut squash\"\n",
    "    elif \"butternut\" in veg:\n",
    "        temp.append(\"butternut squash\")\n",
    "    else:\n",
    "        temp.append(veg)\n",
    "\n",
    "red_orange_vegetables = temp\n",
    "print(red_orange_vegetables)"
   ],
   "outputs": [
    {
     "output_type": "stream",
     "name": "stdout",
     "text": [
      "['calabaza', 'carrots', 'red chili peppers', 'red bell peppers', 'orange bell peppers', 'pimento/pimiento', 'sweet potatoes', 'tomatoes', '100% tomato juice', 'acorn squash', 'butternut squash', 'kabocha', 'pumpkin']\n"
     ]
    }
   ],
   "metadata": {}
  },
  {
   "cell_type": "code",
   "execution_count": 114,
   "source": [
    "# Remove the word 'and', split string by comma\n",
    "pulses = pulses.replace('and', '').split(\",\")\n",
    "# Remove whitespaces at start and end of each food item\n",
    "pulses = [x.strip() for x in pulses]\n",
    "print(pulses)"
   ],
   "outputs": [
    {
     "output_type": "stream",
     "name": "stdout",
     "text": [
      "['black beans', 'black-eyed peas', 'bayo beans', 'brown beans', 'chickpeas (garbanzo beans)', 'cowpeas', 'edamame', 'fava beans', 'kidney beans', 'lentils', 'lima beans', 'mung beans', 'navy beans', 'pigeon peas', 'pink beans', 'pinto beans', 'split peas', 'soybeans', 'white beans']\n"
     ]
    }
   ],
   "metadata": {}
  },
  {
   "cell_type": "code",
   "execution_count": 104,
   "source": [
    "# Function to add alternative name of food in brackets as separate food item\n",
    "def alternative_name(food_item_list):\n",
    "\n",
    "    temp = []\n",
    "\n",
    "    for food in food_item_list:\n",
    "\n",
    "        # Replace '(' with '+' for easier splitting\n",
    "        if (\"(\") in food:\n",
    "            food = food.replace(\"(\", '+')\n",
    "        # Replace ')' with '+' for easier splitting\n",
    "        if (\")\") in food:\n",
    "            food = food.replace(\")\", '+')\n",
    "        # Split string into separate food items\n",
    "        if (\"+\" in food):\n",
    "            # Remove 'or' in string\n",
    "            food = food.replace(\" or \", '+')\n",
    "            food_split = food.split(\"+\")\n",
    "\n",
    "            for sub_food in food_split:\n",
    "                temp.append(sub_food.strip())\n",
    "\n",
    "        else:\n",
    "            temp.append(food)\n",
    "\n",
    "    # Remove empty strings\n",
    "    temp = [x for x in temp if x]\n",
    "    return temp"
   ],
   "outputs": [],
   "metadata": {}
  },
  {
   "cell_type": "code",
   "execution_count": 116,
   "source": [
    "# Split alternative name for vegetable in brackets into a separate food item\n",
    "pulses = alternative_name(pulses)\n",
    "print(pulses)"
   ],
   "outputs": [
    {
     "output_type": "stream",
     "name": "stdout",
     "text": [
      "['black beans', 'black-eyed peas', 'bayo beans', 'brown beans', 'chickpeas', 'garbanzo beans', 'cowpeas', 'edamame', 'fava beans', 'kidney beans', 'lentils', 'lima beans', 'mung beans', 'navy beans', 'pigeon peas', 'pink beans', 'pinto beans', 'split peas', 'soybeans', 'white beans']\n"
     ]
    }
   ],
   "metadata": {}
  },
  {
   "cell_type": "code",
   "execution_count": 117,
   "source": [
    "# Remove the word 'and', split string by comma\n",
    "starchy_vegetables = starchy_vegetables.replace('and', '').split(\",\")\n",
    "# Remove whitespaces at start and end of each food item\n",
    "starchy_vegetables = [x.strip() for x in starchy_vegetables]\n",
    "print(starchy_vegetables)"
   ],
   "outputs": [
    {
     "output_type": "stream",
     "name": "stdout",
     "text": [
      "['breadfruit', 'burdock root', 'cassava', 'corn', 'jicama', 'lotus root', 'lima beans', 'immature or raw (not dried) peas (e.g.', 'cowpeas', 'black-eyed peas', 'green peas', 'pigeon peas)', 'plantains', 'white potatoes', 'salsify', 'tapioca', 'taro root (dasheen or yautia)', 'water chestnuts', 'yam', 'yucca']\n"
     ]
    }
   ],
   "metadata": {}
  },
  {
   "cell_type": "code",
   "execution_count": 118,
   "source": [
    "# Remove 'immature or raw (not dried) peas (e.g.' from list\n",
    "starchy_vegetables.pop(7)\n",
    "print(starchy_vegetables)"
   ],
   "outputs": [
    {
     "output_type": "stream",
     "name": "stdout",
     "text": [
      "['breadfruit', 'burdock root', 'cassava', 'corn', 'jicama', 'lotus root', 'lima beans', 'cowpeas', 'black-eyed peas', 'green peas', 'pigeon peas)', 'plantains', 'white potatoes', 'salsify', 'tapioca', 'taro root (dasheen or yautia)', 'water chestnuts', 'yam', 'yucca']\n"
     ]
    }
   ],
   "metadata": {}
  },
  {
   "cell_type": "code",
   "execution_count": 119,
   "source": [
    "# Split alternative name for vegetable in brackets into a separate food item\n",
    "starchy_vegetables = alternative_name(starchy_vegetables)\n",
    "print(starchy_vegetables)"
   ],
   "outputs": [
    {
     "output_type": "stream",
     "name": "stdout",
     "text": [
      "['breadfruit', 'burdock root', 'cassava', 'corn', 'jicama', 'lotus root', 'lima beans', 'cowpeas', 'black-eyed peas', 'green peas', 'pigeon peas', 'plantains', 'white potatoes', 'salsify', 'tapioca', 'taro root', 'dasheen', 'yautia', 'water chestnuts', 'yam', 'yucca']\n"
     ]
    }
   ],
   "metadata": {}
  },
  {
   "cell_type": "code",
   "execution_count": 122,
   "source": [
    "# Remove the word 'and', split string by comma\n",
    "others_vegetables = others_vegetables.replace('and', '').split(\",\")\n",
    "# Remove whitespaces at start and end of each food item\n",
    "others_vegetables = [x.strip() for x in others_vegetables]\n",
    "print(others_vegetables)"
   ],
   "outputs": [
    {
     "output_type": "stream",
     "name": "stdout",
     "text": [
      "['artichoke', 'asparagus', 'avocado', 'bamboo shoots', 'bean sprouts', 'beets', 'bitter melon (bitter gourd', 'balsam pear)', 'broccoflower', 'Brussels sprouts', 'cabbage', 'cactus pads (nopales)', 'cauliflower', 'celeriac', 'celery', 'chayote (mirliton)', 'chives', 'cucumber', 'eggplant', 'fennel bulb', 'garlic', 'ginger root', 'green beans', 'iceberg lettuce', 'kohlrabi', 'leeks', 'luffa (Chinese okra)', 'mushrooms', 'okra', 'onions', 'green chili peppers', 'green bell peppers', 'radicchio', 'sprouted beans', 'radish', 'rutabaga', 'seaweed', 'snow peas', 'summer squash', 'tomatillos', 'turnips', 'winter melons']\n"
     ]
    }
   ],
   "metadata": {}
  },
  {
   "cell_type": "code",
   "execution_count": 123,
   "source": [
    "others_vegetables = alternative_name(others_vegetables)\n",
    "print(others_vegetables)"
   ],
   "outputs": [
    {
     "output_type": "stream",
     "name": "stdout",
     "text": [
      "['artichoke', 'asparagus', 'avocado', 'bamboo shoots', 'bean sprouts', 'beets', 'bitter melon', 'bitter gourd', 'balsam pear', 'broccoflower', 'Brussels sprouts', 'cabbage', 'cactus pads', 'nopales', 'cauliflower', 'celeriac', 'celery', 'chayote', 'mirliton', 'chives', 'cucumber', 'eggplant', 'fennel bulb', 'garlic', 'ginger root', 'green beans', 'iceberg lettuce', 'kohlrabi', 'leeks', 'luffa', 'Chinese okra', 'mushrooms', 'okra', 'onions', 'green chili peppers', 'green bell peppers', 'radicchio', 'sprouted beans', 'radish', 'rutabaga', 'seaweed', 'snow peas', 'summer squash', 'tomatillos', 'turnips', 'winter melons']\n"
     ]
    }
   ],
   "metadata": {}
  },
  {
   "cell_type": "markdown",
   "source": [
    "## Create dataframe of vegetables with their sub-groups"
   ],
   "metadata": {}
  },
  {
   "cell_type": "code",
   "execution_count": 127,
   "source": [
    "cols = ['food_group', 'sub_group']\n",
    "\n",
    "dark_green_df = pd.DataFrame(columns=cols)\n",
    "dark_green_df['name'] = dark_green_vegetables\n",
    "dark_green_df['sub_group'] = 'dark green'\n",
    "dark_green_df['food_group'] = 'vegetables'\n",
    "\n",
    "dark_green_df.head()"
   ],
   "outputs": [
    {
     "output_type": "execute_result",
     "data": {
      "text/plain": [
       "   food_group   sub_group                 name\n",
       "0  vegetables  dark green      amaranth leaves\n",
       "1  vegetables  dark green                basil\n",
       "2  vegetables  dark green          beet greens\n",
       "3  vegetables  dark green  bitter melon leaves\n",
       "4  vegetables  dark green             bok choy"
      ],
      "text/html": [
       "<div>\n",
       "<style scoped>\n",
       "    .dataframe tbody tr th:only-of-type {\n",
       "        vertical-align: middle;\n",
       "    }\n",
       "\n",
       "    .dataframe tbody tr th {\n",
       "        vertical-align: top;\n",
       "    }\n",
       "\n",
       "    .dataframe thead th {\n",
       "        text-align: right;\n",
       "    }\n",
       "</style>\n",
       "<table border=\"1\" class=\"dataframe\">\n",
       "  <thead>\n",
       "    <tr style=\"text-align: right;\">\n",
       "      <th></th>\n",
       "      <th>food_group</th>\n",
       "      <th>sub_group</th>\n",
       "      <th>name</th>\n",
       "    </tr>\n",
       "  </thead>\n",
       "  <tbody>\n",
       "    <tr>\n",
       "      <th>0</th>\n",
       "      <td>vegetables</td>\n",
       "      <td>dark green</td>\n",
       "      <td>amaranth leaves</td>\n",
       "    </tr>\n",
       "    <tr>\n",
       "      <th>1</th>\n",
       "      <td>vegetables</td>\n",
       "      <td>dark green</td>\n",
       "      <td>basil</td>\n",
       "    </tr>\n",
       "    <tr>\n",
       "      <th>2</th>\n",
       "      <td>vegetables</td>\n",
       "      <td>dark green</td>\n",
       "      <td>beet greens</td>\n",
       "    </tr>\n",
       "    <tr>\n",
       "      <th>3</th>\n",
       "      <td>vegetables</td>\n",
       "      <td>dark green</td>\n",
       "      <td>bitter melon leaves</td>\n",
       "    </tr>\n",
       "    <tr>\n",
       "      <th>4</th>\n",
       "      <td>vegetables</td>\n",
       "      <td>dark green</td>\n",
       "      <td>bok choy</td>\n",
       "    </tr>\n",
       "  </tbody>\n",
       "</table>\n",
       "</div>"
      ]
     },
     "metadata": {},
     "execution_count": 127
    }
   ],
   "metadata": {}
  },
  {
   "cell_type": "code",
   "execution_count": 128,
   "source": [
    "red_orange_df = pd.DataFrame(columns=cols)\n",
    "red_orange_df['name'] = red_orange_vegetables\n",
    "red_orange_df['sub_group'] = 'red and orange'\n",
    "red_orange_df['food_group'] = 'vegetables'\n",
    "\n",
    "red_orange_df.head()"
   ],
   "outputs": [
    {
     "output_type": "execute_result",
     "data": {
      "text/plain": [
       "   food_group       sub_group                 name\n",
       "0  vegetables  red and orange             calabaza\n",
       "1  vegetables  red and orange              carrots\n",
       "2  vegetables  red and orange    red chili peppers\n",
       "3  vegetables  red and orange     red bell peppers\n",
       "4  vegetables  red and orange  orange bell peppers"
      ],
      "text/html": [
       "<div>\n",
       "<style scoped>\n",
       "    .dataframe tbody tr th:only-of-type {\n",
       "        vertical-align: middle;\n",
       "    }\n",
       "\n",
       "    .dataframe tbody tr th {\n",
       "        vertical-align: top;\n",
       "    }\n",
       "\n",
       "    .dataframe thead th {\n",
       "        text-align: right;\n",
       "    }\n",
       "</style>\n",
       "<table border=\"1\" class=\"dataframe\">\n",
       "  <thead>\n",
       "    <tr style=\"text-align: right;\">\n",
       "      <th></th>\n",
       "      <th>food_group</th>\n",
       "      <th>sub_group</th>\n",
       "      <th>name</th>\n",
       "    </tr>\n",
       "  </thead>\n",
       "  <tbody>\n",
       "    <tr>\n",
       "      <th>0</th>\n",
       "      <td>vegetables</td>\n",
       "      <td>red and orange</td>\n",
       "      <td>calabaza</td>\n",
       "    </tr>\n",
       "    <tr>\n",
       "      <th>1</th>\n",
       "      <td>vegetables</td>\n",
       "      <td>red and orange</td>\n",
       "      <td>carrots</td>\n",
       "    </tr>\n",
       "    <tr>\n",
       "      <th>2</th>\n",
       "      <td>vegetables</td>\n",
       "      <td>red and orange</td>\n",
       "      <td>red chili peppers</td>\n",
       "    </tr>\n",
       "    <tr>\n",
       "      <th>3</th>\n",
       "      <td>vegetables</td>\n",
       "      <td>red and orange</td>\n",
       "      <td>red bell peppers</td>\n",
       "    </tr>\n",
       "    <tr>\n",
       "      <th>4</th>\n",
       "      <td>vegetables</td>\n",
       "      <td>red and orange</td>\n",
       "      <td>orange bell peppers</td>\n",
       "    </tr>\n",
       "  </tbody>\n",
       "</table>\n",
       "</div>"
      ]
     },
     "metadata": {},
     "execution_count": 128
    }
   ],
   "metadata": {}
  },
  {
   "cell_type": "code",
   "execution_count": 129,
   "source": [
    "pulses_df = pd.DataFrame(columns=cols)\n",
    "pulses_df['name'] = pulses\n",
    "pulses_df['sub_group'] = 'beans, peas, lentils (pulses)'\n",
    "pulses_df['food_group'] = 'vegetables'\n",
    "\n",
    "pulses_df.head()"
   ],
   "outputs": [
    {
     "output_type": "execute_result",
     "data": {
      "text/plain": [
       "   food_group                      sub_group             name\n",
       "0  vegetables  beans, peas, lentils (pulses)      black beans\n",
       "1  vegetables  beans, peas, lentils (pulses)  black-eyed peas\n",
       "2  vegetables  beans, peas, lentils (pulses)       bayo beans\n",
       "3  vegetables  beans, peas, lentils (pulses)      brown beans\n",
       "4  vegetables  beans, peas, lentils (pulses)        chickpeas"
      ],
      "text/html": [
       "<div>\n",
       "<style scoped>\n",
       "    .dataframe tbody tr th:only-of-type {\n",
       "        vertical-align: middle;\n",
       "    }\n",
       "\n",
       "    .dataframe tbody tr th {\n",
       "        vertical-align: top;\n",
       "    }\n",
       "\n",
       "    .dataframe thead th {\n",
       "        text-align: right;\n",
       "    }\n",
       "</style>\n",
       "<table border=\"1\" class=\"dataframe\">\n",
       "  <thead>\n",
       "    <tr style=\"text-align: right;\">\n",
       "      <th></th>\n",
       "      <th>food_group</th>\n",
       "      <th>sub_group</th>\n",
       "      <th>name</th>\n",
       "    </tr>\n",
       "  </thead>\n",
       "  <tbody>\n",
       "    <tr>\n",
       "      <th>0</th>\n",
       "      <td>vegetables</td>\n",
       "      <td>beans, peas, lentils (pulses)</td>\n",
       "      <td>black beans</td>\n",
       "    </tr>\n",
       "    <tr>\n",
       "      <th>1</th>\n",
       "      <td>vegetables</td>\n",
       "      <td>beans, peas, lentils (pulses)</td>\n",
       "      <td>black-eyed peas</td>\n",
       "    </tr>\n",
       "    <tr>\n",
       "      <th>2</th>\n",
       "      <td>vegetables</td>\n",
       "      <td>beans, peas, lentils (pulses)</td>\n",
       "      <td>bayo beans</td>\n",
       "    </tr>\n",
       "    <tr>\n",
       "      <th>3</th>\n",
       "      <td>vegetables</td>\n",
       "      <td>beans, peas, lentils (pulses)</td>\n",
       "      <td>brown beans</td>\n",
       "    </tr>\n",
       "    <tr>\n",
       "      <th>4</th>\n",
       "      <td>vegetables</td>\n",
       "      <td>beans, peas, lentils (pulses)</td>\n",
       "      <td>chickpeas</td>\n",
       "    </tr>\n",
       "  </tbody>\n",
       "</table>\n",
       "</div>"
      ]
     },
     "metadata": {},
     "execution_count": 129
    }
   ],
   "metadata": {}
  },
  {
   "cell_type": "code",
   "execution_count": 130,
   "source": [
    "starchy_df = pd.DataFrame(columns=cols)\n",
    "starchy_df['name'] = starchy_vegetables\n",
    "starchy_df['sub_group'] = 'starchy'\n",
    "starchy_df['food_group'] = 'vegetables'\n",
    "\n",
    "starchy_df.head()"
   ],
   "outputs": [
    {
     "output_type": "execute_result",
     "data": {
      "text/plain": [
       "   food_group sub_group          name\n",
       "0  vegetables   starchy    breadfruit\n",
       "1  vegetables   starchy  burdock root\n",
       "2  vegetables   starchy       cassava\n",
       "3  vegetables   starchy          corn\n",
       "4  vegetables   starchy        jicama"
      ],
      "text/html": [
       "<div>\n",
       "<style scoped>\n",
       "    .dataframe tbody tr th:only-of-type {\n",
       "        vertical-align: middle;\n",
       "    }\n",
       "\n",
       "    .dataframe tbody tr th {\n",
       "        vertical-align: top;\n",
       "    }\n",
       "\n",
       "    .dataframe thead th {\n",
       "        text-align: right;\n",
       "    }\n",
       "</style>\n",
       "<table border=\"1\" class=\"dataframe\">\n",
       "  <thead>\n",
       "    <tr style=\"text-align: right;\">\n",
       "      <th></th>\n",
       "      <th>food_group</th>\n",
       "      <th>sub_group</th>\n",
       "      <th>name</th>\n",
       "    </tr>\n",
       "  </thead>\n",
       "  <tbody>\n",
       "    <tr>\n",
       "      <th>0</th>\n",
       "      <td>vegetables</td>\n",
       "      <td>starchy</td>\n",
       "      <td>breadfruit</td>\n",
       "    </tr>\n",
       "    <tr>\n",
       "      <th>1</th>\n",
       "      <td>vegetables</td>\n",
       "      <td>starchy</td>\n",
       "      <td>burdock root</td>\n",
       "    </tr>\n",
       "    <tr>\n",
       "      <th>2</th>\n",
       "      <td>vegetables</td>\n",
       "      <td>starchy</td>\n",
       "      <td>cassava</td>\n",
       "    </tr>\n",
       "    <tr>\n",
       "      <th>3</th>\n",
       "      <td>vegetables</td>\n",
       "      <td>starchy</td>\n",
       "      <td>corn</td>\n",
       "    </tr>\n",
       "    <tr>\n",
       "      <th>4</th>\n",
       "      <td>vegetables</td>\n",
       "      <td>starchy</td>\n",
       "      <td>jicama</td>\n",
       "    </tr>\n",
       "  </tbody>\n",
       "</table>\n",
       "</div>"
      ]
     },
     "metadata": {},
     "execution_count": 130
    }
   ],
   "metadata": {}
  },
  {
   "cell_type": "code",
   "execution_count": 131,
   "source": [
    "others_df = pd.DataFrame(columns=cols)\n",
    "others_df['name'] = others_vegetables\n",
    "others_df['sub_group'] = 'others'\n",
    "others_df['food_group'] = 'vegetables'\n",
    "\n",
    "others_df.head()"
   ],
   "outputs": [
    {
     "output_type": "execute_result",
     "data": {
      "text/plain": [
       "   food_group sub_group           name\n",
       "0  vegetables    others      artichoke\n",
       "1  vegetables    others      asparagus\n",
       "2  vegetables    others        avocado\n",
       "3  vegetables    others  bamboo shoots\n",
       "4  vegetables    others   bean sprouts"
      ],
      "text/html": [
       "<div>\n",
       "<style scoped>\n",
       "    .dataframe tbody tr th:only-of-type {\n",
       "        vertical-align: middle;\n",
       "    }\n",
       "\n",
       "    .dataframe tbody tr th {\n",
       "        vertical-align: top;\n",
       "    }\n",
       "\n",
       "    .dataframe thead th {\n",
       "        text-align: right;\n",
       "    }\n",
       "</style>\n",
       "<table border=\"1\" class=\"dataframe\">\n",
       "  <thead>\n",
       "    <tr style=\"text-align: right;\">\n",
       "      <th></th>\n",
       "      <th>food_group</th>\n",
       "      <th>sub_group</th>\n",
       "      <th>name</th>\n",
       "    </tr>\n",
       "  </thead>\n",
       "  <tbody>\n",
       "    <tr>\n",
       "      <th>0</th>\n",
       "      <td>vegetables</td>\n",
       "      <td>others</td>\n",
       "      <td>artichoke</td>\n",
       "    </tr>\n",
       "    <tr>\n",
       "      <th>1</th>\n",
       "      <td>vegetables</td>\n",
       "      <td>others</td>\n",
       "      <td>asparagus</td>\n",
       "    </tr>\n",
       "    <tr>\n",
       "      <th>2</th>\n",
       "      <td>vegetables</td>\n",
       "      <td>others</td>\n",
       "      <td>avocado</td>\n",
       "    </tr>\n",
       "    <tr>\n",
       "      <th>3</th>\n",
       "      <td>vegetables</td>\n",
       "      <td>others</td>\n",
       "      <td>bamboo shoots</td>\n",
       "    </tr>\n",
       "    <tr>\n",
       "      <th>4</th>\n",
       "      <td>vegetables</td>\n",
       "      <td>others</td>\n",
       "      <td>bean sprouts</td>\n",
       "    </tr>\n",
       "  </tbody>\n",
       "</table>\n",
       "</div>"
      ]
     },
     "metadata": {},
     "execution_count": 131
    }
   ],
   "metadata": {}
  },
  {
   "cell_type": "code",
   "execution_count": 133,
   "source": [
    "# Concat all veg dataframes into single dataframe\n",
    "veg_df = pd.concat([dark_green_df, red_orange_df, pulses_df, starchy_df, others_df])\n",
    "\n",
    "# Get sum of rows to ensure the dataframe concatenated correctly\n",
    "print(\"Sum of rows across all dataframes: \", len(dark_green_df) + len(red_orange_df) + len(pulses_df) + len(starchy_df) + len(others_df))\n",
    "print(len(veg_df.index))"
   ],
   "outputs": [
    {
     "output_type": "stream",
     "name": "stdout",
     "text": [
      "Sum of rows across all dataframes:  123\n",
      "123\n"
     ]
    }
   ],
   "metadata": {}
  },
  {
   "cell_type": "code",
   "execution_count": 134,
   "source": [
    "# Pickle dataframe to reuse\n",
    "veg_df.to_pickle('veg_dataset.pkl')"
   ],
   "outputs": [],
   "metadata": {}
  },
  {
   "cell_type": "markdown",
   "source": [
    "## Pre-processing List of Fruits"
   ],
   "metadata": {}
  },
  {
   "cell_type": "code",
   "execution_count": 145,
   "source": [
    "fruits = \"Asian pears, bananas, (blackberries, blueberries, cranberries, currants, dewberries, huckleberries, kiwifruit, loganberries, mulberries, raspberries, and strawberries); (calamondin, grapefruit, kumquats, lemons, limes, mandarin oranges, pomelos, tangerines, and tangelos); cherries, dates, figs, grapes, guava, jackfruit, lychee, mangoes, melons (cantaloupe, casaba, honeydew, and watermelon); nectarines, papaya, passion fruit, peaches, pears, persimmons, pineapple, plums, pomegranates, prunes, raisins, rhubarb, sapote, soursop, starfruit, and tamarind\""
   ],
   "outputs": [],
   "metadata": {}
  },
  {
   "cell_type": "code",
   "execution_count": 146,
   "source": [
    "# Remove the word 'and', split string by comma\n",
    "fruits = fruits.replace(' and ', '').replace(';', ',').replace('(', '').replace(')', '').split(\",\")\n",
    "# Remove whitespaces at start and end of each food item\n",
    "fruits = [x.strip() for x in fruits]\n",
    "print(fruits)"
   ],
   "outputs": [
    {
     "output_type": "stream",
     "name": "stdout",
     "text": [
      "['Asian pears', 'bananas', 'blackberries', 'blueberries', 'cranberries', 'currants', 'dewberries', 'huckleberries', 'kiwifruit', 'loganberries', 'mulberries', 'raspberries', 'strawberries', 'calamondin', 'grapefruit', 'kumquats', 'lemons', 'limes', 'mandarin oranges', 'pomelos', 'tangerines', 'tangelos', 'cherries', 'dates', 'figs', 'grapes', 'guava', 'jackfruit', 'lychee', 'mangoes', 'melons cantaloupe', 'casaba', 'honeydew', 'watermelon', 'nectarines', 'papaya', 'passion fruit', 'peaches', 'pears', 'persimmons', 'pineapple', 'plums', 'pomegranates', 'prunes', 'raisins', 'rhubarb', 'sapote', 'soursop', 'starfruit', 'tamarind']\n"
     ]
    }
   ],
   "metadata": {}
  },
  {
   "cell_type": "code",
   "execution_count": 149,
   "source": [
    "# Create fruits dataframe\n",
    "\n",
    "fruit_df = pd.DataFrame(columns=cols)\n",
    "fruit_df['name'] = fruits\n",
    "fruit_df['sub_group'] = 'None'\n",
    "fruit_df['food_group'] = 'Fruits'\n",
    "\n",
    "fruit_df.head()"
   ],
   "outputs": [
    {
     "output_type": "execute_result",
     "data": {
      "text/plain": [
       "  food_group sub_group          name\n",
       "0     Fruits      None   Asian pears\n",
       "1     Fruits      None       bananas\n",
       "2     Fruits      None  blackberries\n",
       "3     Fruits      None   blueberries\n",
       "4     Fruits      None   cranberries"
      ],
      "text/html": [
       "<div>\n",
       "<style scoped>\n",
       "    .dataframe tbody tr th:only-of-type {\n",
       "        vertical-align: middle;\n",
       "    }\n",
       "\n",
       "    .dataframe tbody tr th {\n",
       "        vertical-align: top;\n",
       "    }\n",
       "\n",
       "    .dataframe thead th {\n",
       "        text-align: right;\n",
       "    }\n",
       "</style>\n",
       "<table border=\"1\" class=\"dataframe\">\n",
       "  <thead>\n",
       "    <tr style=\"text-align: right;\">\n",
       "      <th></th>\n",
       "      <th>food_group</th>\n",
       "      <th>sub_group</th>\n",
       "      <th>name</th>\n",
       "    </tr>\n",
       "  </thead>\n",
       "  <tbody>\n",
       "    <tr>\n",
       "      <th>0</th>\n",
       "      <td>Fruits</td>\n",
       "      <td>None</td>\n",
       "      <td>Asian pears</td>\n",
       "    </tr>\n",
       "    <tr>\n",
       "      <th>1</th>\n",
       "      <td>Fruits</td>\n",
       "      <td>None</td>\n",
       "      <td>bananas</td>\n",
       "    </tr>\n",
       "    <tr>\n",
       "      <th>2</th>\n",
       "      <td>Fruits</td>\n",
       "      <td>None</td>\n",
       "      <td>blackberries</td>\n",
       "    </tr>\n",
       "    <tr>\n",
       "      <th>3</th>\n",
       "      <td>Fruits</td>\n",
       "      <td>None</td>\n",
       "      <td>blueberries</td>\n",
       "    </tr>\n",
       "    <tr>\n",
       "      <th>4</th>\n",
       "      <td>Fruits</td>\n",
       "      <td>None</td>\n",
       "      <td>cranberries</td>\n",
       "    </tr>\n",
       "  </tbody>\n",
       "</table>\n",
       "</div>"
      ]
     },
     "metadata": {},
     "execution_count": 149
    }
   ],
   "metadata": {}
  },
  {
   "cell_type": "code",
   "execution_count": 150,
   "source": [
    "fruit_df.to_pickle('fruit_dataset.pkl')"
   ],
   "outputs": [],
   "metadata": {}
  },
  {
   "cell_type": "markdown",
   "source": [
    "## Pre-processing List of Grains"
   ],
   "metadata": {}
  },
  {
   "cell_type": "code",
   "execution_count": 153,
   "source": [
    "whole_grains = \"amaranth, hulled barley, brown rice, buckwheat, bulgur, millet, oats, popcorn, quinoa, dark rye, triticale, whole-grain cornmeal, whole-wheat bread, whole-wheat chapati, whole-grain cereals, whole-grain crackers, and wild rice\" \n",
    "\n",
    "refined_grains = \"white breads, cereals, crackers, corn grits, cream of rice, cream of wheat, barley, masa, pasta, and white rice\"\n"
   ],
   "outputs": [],
   "metadata": {}
  },
  {
   "cell_type": "code",
   "execution_count": 154,
   "source": [
    "# Remove the word 'and', split string by comma\n",
    "whole_grains = whole_grains.replace(' and ', '').split(\",\")\n",
    "# Remove whitespaces at start and end of each food item\n",
    "whole_grains = [x.strip() for x in whole_grains]\n",
    "print(whole_grains)"
   ],
   "outputs": [
    {
     "output_type": "stream",
     "name": "stdout",
     "text": [
      "['amaranth', 'hulled barley', 'brown rice', 'buckwheat', 'bulgur', 'millet', 'oats', 'popcorn', 'quinoa', 'dark rye', 'triticale', 'whole-grain cornmeal', 'whole-wheat bread', 'whole-wheat chapati', 'whole-grain cereals', 'whole-grain crackers', 'wild rice']\n"
     ]
    }
   ],
   "metadata": {}
  },
  {
   "cell_type": "code",
   "execution_count": 155,
   "source": [
    "# Remove the word 'and', split string by comma\n",
    "refined_grains = refined_grains.replace(' and ', '').split(\",\")\n",
    "# Remove whitespaces at start and end of each food item\n",
    "refined_grains = [x.strip() for x in refined_grains]\n",
    "print(refined_grains)"
   ],
   "outputs": [
    {
     "output_type": "stream",
     "name": "stdout",
     "text": [
      "['white breads', 'cereals', 'crackers', 'corn grits', 'cream of rice', 'cream of wheat', 'barley', 'masa', 'pasta', 'white rice']\n"
     ]
    }
   ],
   "metadata": {}
  },
  {
   "cell_type": "code",
   "execution_count": 156,
   "source": [
    "# Create whole-grains dataframe\n",
    "\n",
    "whole_grains_df = pd.DataFrame(columns=cols)\n",
    "whole_grains_df['name'] = whole_grains\n",
    "whole_grains_df['sub_group'] = 'Whole Grains'\n",
    "whole_grains_df['food_group'] = 'Grains'\n",
    "\n",
    "whole_grains_df.head()"
   ],
   "outputs": [
    {
     "output_type": "execute_result",
     "data": {
      "text/plain": [
       "  food_group     sub_group           name\n",
       "0     Grains  Whole Grains       amaranth\n",
       "1     Grains  Whole Grains  hulled barley\n",
       "2     Grains  Whole Grains     brown rice\n",
       "3     Grains  Whole Grains      buckwheat\n",
       "4     Grains  Whole Grains         bulgur"
      ],
      "text/html": [
       "<div>\n",
       "<style scoped>\n",
       "    .dataframe tbody tr th:only-of-type {\n",
       "        vertical-align: middle;\n",
       "    }\n",
       "\n",
       "    .dataframe tbody tr th {\n",
       "        vertical-align: top;\n",
       "    }\n",
       "\n",
       "    .dataframe thead th {\n",
       "        text-align: right;\n",
       "    }\n",
       "</style>\n",
       "<table border=\"1\" class=\"dataframe\">\n",
       "  <thead>\n",
       "    <tr style=\"text-align: right;\">\n",
       "      <th></th>\n",
       "      <th>food_group</th>\n",
       "      <th>sub_group</th>\n",
       "      <th>name</th>\n",
       "    </tr>\n",
       "  </thead>\n",
       "  <tbody>\n",
       "    <tr>\n",
       "      <th>0</th>\n",
       "      <td>Grains</td>\n",
       "      <td>Whole Grains</td>\n",
       "      <td>amaranth</td>\n",
       "    </tr>\n",
       "    <tr>\n",
       "      <th>1</th>\n",
       "      <td>Grains</td>\n",
       "      <td>Whole Grains</td>\n",
       "      <td>hulled barley</td>\n",
       "    </tr>\n",
       "    <tr>\n",
       "      <th>2</th>\n",
       "      <td>Grains</td>\n",
       "      <td>Whole Grains</td>\n",
       "      <td>brown rice</td>\n",
       "    </tr>\n",
       "    <tr>\n",
       "      <th>3</th>\n",
       "      <td>Grains</td>\n",
       "      <td>Whole Grains</td>\n",
       "      <td>buckwheat</td>\n",
       "    </tr>\n",
       "    <tr>\n",
       "      <th>4</th>\n",
       "      <td>Grains</td>\n",
       "      <td>Whole Grains</td>\n",
       "      <td>bulgur</td>\n",
       "    </tr>\n",
       "  </tbody>\n",
       "</table>\n",
       "</div>"
      ]
     },
     "metadata": {},
     "execution_count": 156
    }
   ],
   "metadata": {}
  },
  {
   "cell_type": "code",
   "execution_count": 157,
   "source": [
    "# Create refined-grains dataframe\n",
    "\n",
    "refined_grains_df = pd.DataFrame(columns=cols)\n",
    "refined_grains_df['name'] = refined_grains\n",
    "refined_grains_df['sub_group'] = 'Refined Grains'\n",
    "refined_grains_df['food_group'] = 'Grains'\n",
    "\n",
    "refined_grains_df.head()"
   ],
   "outputs": [
    {
     "output_type": "execute_result",
     "data": {
      "text/plain": [
       "  food_group       sub_group           name\n",
       "0     Grains  Refined Grains   white breads\n",
       "1     Grains  Refined Grains        cereals\n",
       "2     Grains  Refined Grains       crackers\n",
       "3     Grains  Refined Grains     corn grits\n",
       "4     Grains  Refined Grains  cream of rice"
      ],
      "text/html": [
       "<div>\n",
       "<style scoped>\n",
       "    .dataframe tbody tr th:only-of-type {\n",
       "        vertical-align: middle;\n",
       "    }\n",
       "\n",
       "    .dataframe tbody tr th {\n",
       "        vertical-align: top;\n",
       "    }\n",
       "\n",
       "    .dataframe thead th {\n",
       "        text-align: right;\n",
       "    }\n",
       "</style>\n",
       "<table border=\"1\" class=\"dataframe\">\n",
       "  <thead>\n",
       "    <tr style=\"text-align: right;\">\n",
       "      <th></th>\n",
       "      <th>food_group</th>\n",
       "      <th>sub_group</th>\n",
       "      <th>name</th>\n",
       "    </tr>\n",
       "  </thead>\n",
       "  <tbody>\n",
       "    <tr>\n",
       "      <th>0</th>\n",
       "      <td>Grains</td>\n",
       "      <td>Refined Grains</td>\n",
       "      <td>white breads</td>\n",
       "    </tr>\n",
       "    <tr>\n",
       "      <th>1</th>\n",
       "      <td>Grains</td>\n",
       "      <td>Refined Grains</td>\n",
       "      <td>cereals</td>\n",
       "    </tr>\n",
       "    <tr>\n",
       "      <th>2</th>\n",
       "      <td>Grains</td>\n",
       "      <td>Refined Grains</td>\n",
       "      <td>crackers</td>\n",
       "    </tr>\n",
       "    <tr>\n",
       "      <th>3</th>\n",
       "      <td>Grains</td>\n",
       "      <td>Refined Grains</td>\n",
       "      <td>corn grits</td>\n",
       "    </tr>\n",
       "    <tr>\n",
       "      <th>4</th>\n",
       "      <td>Grains</td>\n",
       "      <td>Refined Grains</td>\n",
       "      <td>cream of rice</td>\n",
       "    </tr>\n",
       "  </tbody>\n",
       "</table>\n",
       "</div>"
      ]
     },
     "metadata": {},
     "execution_count": 157
    }
   ],
   "metadata": {}
  },
  {
   "cell_type": "code",
   "execution_count": 158,
   "source": [
    "# Concat all veg dataframes into single dataframe\n",
    "grains_df = pd.concat([whole_grains_df, refined_grains_df])\n",
    "\n",
    "# Get sum of rows to ensure the dataframe concatenated correctly\n",
    "print(\"Sum of rows across all dataframes: \", len(whole_grains_df) + len(refined_grains_df))\n",
    "print(len(grains_df.index))"
   ],
   "outputs": [
    {
     "output_type": "stream",
     "name": "stdout",
     "text": [
      "Sum of rows across all dataframes:  27\n",
      "27\n"
     ]
    }
   ],
   "metadata": {}
  },
  {
   "cell_type": "code",
   "execution_count": 159,
   "source": [
    "grains_df.to_pickle('grains_dataset.pkl')"
   ],
   "outputs": [],
   "metadata": {}
  },
  {
   "cell_type": "markdown",
   "source": [
    "## Pre-processing List of Dairy"
   ],
   "metadata": {}
  },
  {
   "cell_type": "code",
   "execution_count": 166,
   "source": [
    "healthy_milks = \"milk, soy milk, buttermilk, yogurt, kefir, frozen yogurt, evaporated milk, milk powder, condensed milk, whole milk\"\n",
    "\n",
    "healthy_cheeses = \"cheese, brie, camembert, cheddar, cottage cheese, colby, edam, feta, fontina, goats cheese, gouda, gruyere, limburger, queso anejo, queso asadero, queso chihuahua, monterey, mozzarella, muenster, parmesan, provolone, ricotta, quark, and Swiss cheese\"\n",
    "\n",
    "unhealthy_dairy = \"Cream, heavy cream, sour cream, whipped cream, butter, ice-cream, ice cream, ghee, and cream cheese\"\n",
    "\n",
    "others_dairy = \"whey, cultured milk, curds, curd whey\""
   ],
   "outputs": [],
   "metadata": {}
  },
  {
   "cell_type": "code",
   "execution_count": null,
   "source": [
    "synonyms = \"fat free milk, fat-free milk, skim milk, semi-skim milk, skimmed milk, semi-skimmed milk, semi skimmed milk, semi skim milk, goat's cheese, goat cheese, swiss, monterey jack, mozzarella cheese, cheddar cheese, low fat milk, low-fat milk\""
   ],
   "outputs": [],
   "metadata": {}
  },
  {
   "cell_type": "code",
   "execution_count": 167,
   "source": [
    "# Remove the word 'and', split string by comma\n",
    "healthy_milks = healthy_milks.replace(' and ', '').split(\",\")\n",
    "# Remove whitespaces at start and end of each food item\n",
    "healthy_milks = [x.strip() for x in healthy_milks]\n",
    "print(healthy_milks)"
   ],
   "outputs": [
    {
     "output_type": "stream",
     "name": "stdout",
     "text": [
      "['milk', 'soy milk', 'buttermilk', 'yogurt', 'kefir', 'frozen yogurt', 'evaporated milk', 'milk powder', 'condensed milk', 'whole milk']\n"
     ]
    }
   ],
   "metadata": {}
  },
  {
   "cell_type": "code",
   "execution_count": 168,
   "source": [
    "# Remove the word 'and', split string by comma\n",
    "healthy_cheeses = healthy_cheeses.replace(' and ', '').split(\",\")\n",
    "# Remove whitespaces at start and end of each food item\n",
    "healthy_cheeses = [x.strip() for x in healthy_cheeses]\n",
    "print(healthy_cheeses)"
   ],
   "outputs": [
    {
     "output_type": "stream",
     "name": "stdout",
     "text": [
      "['cheese', 'brie', 'camembert', 'cheddar', 'cottage cheese', 'colby', 'edam', 'feta', 'fontina', 'goats cheese', 'gouda', 'gruyere', 'limburger', 'queso anejo', 'queso asadero', 'queso chihuahua', 'monterey', 'mozzarella', 'muenster', 'parmesan', 'provolone', 'ricotta', 'quark', 'Swiss cheese']\n"
     ]
    }
   ],
   "metadata": {}
  },
  {
   "cell_type": "code",
   "execution_count": 169,
   "source": [
    "# Remove the word 'and', split string by comma\n",
    "unhealthy_dairy = unhealthy_dairy.replace(' and ', '').split(\",\")\n",
    "# Remove whitespaces at start and end of each food item\n",
    "unhealthy_dairy = [x.strip() for x in unhealthy_dairy]\n",
    "print(unhealthy_dairy)"
   ],
   "outputs": [
    {
     "output_type": "stream",
     "name": "stdout",
     "text": [
      "['Cream', 'heavy cream', 'sour cream', 'whipped cream', 'butter', 'ice-cream', 'ice cream', 'ghee', 'cream cheese']\n"
     ]
    }
   ],
   "metadata": {}
  },
  {
   "cell_type": "code",
   "execution_count": 170,
   "source": [
    "# Remove the word 'and', split string by comma\n",
    "others_dairy = others_dairy.replace(' and ', '').split(\",\")\n",
    "# Remove whitespaces at start and end of each food item\n",
    "others_dairy = [x.strip() for x in others_dairy]\n",
    "print(others_dairy)"
   ],
   "outputs": [
    {
     "output_type": "stream",
     "name": "stdout",
     "text": [
      "['whey', 'cultured milk', 'curds', 'curd whey']\n"
     ]
    }
   ],
   "metadata": {}
  },
  {
   "cell_type": "code",
   "execution_count": 171,
   "source": [
    "# Create healthy milks dataframe\n",
    "\n",
    "healthy_milks_df = pd.DataFrame(columns=cols)\n",
    "healthy_milks_df['name'] = healthy_milks\n",
    "healthy_milks_df['sub_group'] = 'Healthy Milk'\n",
    "healthy_milks_df['food_group'] = 'Dairy'\n",
    "\n",
    "healthy_milks_df.head()"
   ],
   "outputs": [
    {
     "output_type": "execute_result",
     "data": {
      "text/plain": [
       "  food_group     sub_group        name\n",
       "0      Dairy  Healthy Milk        milk\n",
       "1      Dairy  Healthy Milk    soy milk\n",
       "2      Dairy  Healthy Milk  buttermilk\n",
       "3      Dairy  Healthy Milk      yogurt\n",
       "4      Dairy  Healthy Milk       kefir"
      ],
      "text/html": [
       "<div>\n",
       "<style scoped>\n",
       "    .dataframe tbody tr th:only-of-type {\n",
       "        vertical-align: middle;\n",
       "    }\n",
       "\n",
       "    .dataframe tbody tr th {\n",
       "        vertical-align: top;\n",
       "    }\n",
       "\n",
       "    .dataframe thead th {\n",
       "        text-align: right;\n",
       "    }\n",
       "</style>\n",
       "<table border=\"1\" class=\"dataframe\">\n",
       "  <thead>\n",
       "    <tr style=\"text-align: right;\">\n",
       "      <th></th>\n",
       "      <th>food_group</th>\n",
       "      <th>sub_group</th>\n",
       "      <th>name</th>\n",
       "    </tr>\n",
       "  </thead>\n",
       "  <tbody>\n",
       "    <tr>\n",
       "      <th>0</th>\n",
       "      <td>Dairy</td>\n",
       "      <td>Healthy Milk</td>\n",
       "      <td>milk</td>\n",
       "    </tr>\n",
       "    <tr>\n",
       "      <th>1</th>\n",
       "      <td>Dairy</td>\n",
       "      <td>Healthy Milk</td>\n",
       "      <td>soy milk</td>\n",
       "    </tr>\n",
       "    <tr>\n",
       "      <th>2</th>\n",
       "      <td>Dairy</td>\n",
       "      <td>Healthy Milk</td>\n",
       "      <td>buttermilk</td>\n",
       "    </tr>\n",
       "    <tr>\n",
       "      <th>3</th>\n",
       "      <td>Dairy</td>\n",
       "      <td>Healthy Milk</td>\n",
       "      <td>yogurt</td>\n",
       "    </tr>\n",
       "    <tr>\n",
       "      <th>4</th>\n",
       "      <td>Dairy</td>\n",
       "      <td>Healthy Milk</td>\n",
       "      <td>kefir</td>\n",
       "    </tr>\n",
       "  </tbody>\n",
       "</table>\n",
       "</div>"
      ]
     },
     "metadata": {},
     "execution_count": 171
    }
   ],
   "metadata": {}
  },
  {
   "cell_type": "code",
   "execution_count": 172,
   "source": [
    "# Create healthy cheeses dataframe\n",
    "\n",
    "healthy_cheeses_df = pd.DataFrame(columns=cols)\n",
    "healthy_cheeses_df['name'] = healthy_cheeses\n",
    "healthy_cheeses_df['sub_group'] = 'Healthy Cheese'\n",
    "healthy_cheeses_df['food_group'] = 'Dairy'\n",
    "\n",
    "healthy_cheeses_df.head()"
   ],
   "outputs": [
    {
     "output_type": "execute_result",
     "data": {
      "text/plain": [
       "  food_group       sub_group            name\n",
       "0      Dairy  Healthy Cheese          cheese\n",
       "1      Dairy  Healthy Cheese            brie\n",
       "2      Dairy  Healthy Cheese       camembert\n",
       "3      Dairy  Healthy Cheese         cheddar\n",
       "4      Dairy  Healthy Cheese  cottage cheese"
      ],
      "text/html": [
       "<div>\n",
       "<style scoped>\n",
       "    .dataframe tbody tr th:only-of-type {\n",
       "        vertical-align: middle;\n",
       "    }\n",
       "\n",
       "    .dataframe tbody tr th {\n",
       "        vertical-align: top;\n",
       "    }\n",
       "\n",
       "    .dataframe thead th {\n",
       "        text-align: right;\n",
       "    }\n",
       "</style>\n",
       "<table border=\"1\" class=\"dataframe\">\n",
       "  <thead>\n",
       "    <tr style=\"text-align: right;\">\n",
       "      <th></th>\n",
       "      <th>food_group</th>\n",
       "      <th>sub_group</th>\n",
       "      <th>name</th>\n",
       "    </tr>\n",
       "  </thead>\n",
       "  <tbody>\n",
       "    <tr>\n",
       "      <th>0</th>\n",
       "      <td>Dairy</td>\n",
       "      <td>Healthy Cheese</td>\n",
       "      <td>cheese</td>\n",
       "    </tr>\n",
       "    <tr>\n",
       "      <th>1</th>\n",
       "      <td>Dairy</td>\n",
       "      <td>Healthy Cheese</td>\n",
       "      <td>brie</td>\n",
       "    </tr>\n",
       "    <tr>\n",
       "      <th>2</th>\n",
       "      <td>Dairy</td>\n",
       "      <td>Healthy Cheese</td>\n",
       "      <td>camembert</td>\n",
       "    </tr>\n",
       "    <tr>\n",
       "      <th>3</th>\n",
       "      <td>Dairy</td>\n",
       "      <td>Healthy Cheese</td>\n",
       "      <td>cheddar</td>\n",
       "    </tr>\n",
       "    <tr>\n",
       "      <th>4</th>\n",
       "      <td>Dairy</td>\n",
       "      <td>Healthy Cheese</td>\n",
       "      <td>cottage cheese</td>\n",
       "    </tr>\n",
       "  </tbody>\n",
       "</table>\n",
       "</div>"
      ]
     },
     "metadata": {},
     "execution_count": 172
    }
   ],
   "metadata": {}
  },
  {
   "cell_type": "code",
   "execution_count": 173,
   "source": [
    "# Create unhealthy dairy dataframe\n",
    "\n",
    "unhealthy_dairy_df = pd.DataFrame(columns=cols)\n",
    "unhealthy_dairy_df['name'] = unhealthy_dairy\n",
    "unhealthy_dairy_df['sub_group'] = 'Unhealthy'\n",
    "unhealthy_dairy_df['food_group'] = 'Dairy'\n",
    "\n",
    "unhealthy_dairy_df.head()"
   ],
   "outputs": [
    {
     "output_type": "execute_result",
     "data": {
      "text/plain": [
       "  food_group  sub_group           name\n",
       "0      Dairy  Unhealthy          Cream\n",
       "1      Dairy  Unhealthy    heavy cream\n",
       "2      Dairy  Unhealthy     sour cream\n",
       "3      Dairy  Unhealthy  whipped cream\n",
       "4      Dairy  Unhealthy         butter"
      ],
      "text/html": [
       "<div>\n",
       "<style scoped>\n",
       "    .dataframe tbody tr th:only-of-type {\n",
       "        vertical-align: middle;\n",
       "    }\n",
       "\n",
       "    .dataframe tbody tr th {\n",
       "        vertical-align: top;\n",
       "    }\n",
       "\n",
       "    .dataframe thead th {\n",
       "        text-align: right;\n",
       "    }\n",
       "</style>\n",
       "<table border=\"1\" class=\"dataframe\">\n",
       "  <thead>\n",
       "    <tr style=\"text-align: right;\">\n",
       "      <th></th>\n",
       "      <th>food_group</th>\n",
       "      <th>sub_group</th>\n",
       "      <th>name</th>\n",
       "    </tr>\n",
       "  </thead>\n",
       "  <tbody>\n",
       "    <tr>\n",
       "      <th>0</th>\n",
       "      <td>Dairy</td>\n",
       "      <td>Unhealthy</td>\n",
       "      <td>Cream</td>\n",
       "    </tr>\n",
       "    <tr>\n",
       "      <th>1</th>\n",
       "      <td>Dairy</td>\n",
       "      <td>Unhealthy</td>\n",
       "      <td>heavy cream</td>\n",
       "    </tr>\n",
       "    <tr>\n",
       "      <th>2</th>\n",
       "      <td>Dairy</td>\n",
       "      <td>Unhealthy</td>\n",
       "      <td>sour cream</td>\n",
       "    </tr>\n",
       "    <tr>\n",
       "      <th>3</th>\n",
       "      <td>Dairy</td>\n",
       "      <td>Unhealthy</td>\n",
       "      <td>whipped cream</td>\n",
       "    </tr>\n",
       "    <tr>\n",
       "      <th>4</th>\n",
       "      <td>Dairy</td>\n",
       "      <td>Unhealthy</td>\n",
       "      <td>butter</td>\n",
       "    </tr>\n",
       "  </tbody>\n",
       "</table>\n",
       "</div>"
      ]
     },
     "metadata": {},
     "execution_count": 173
    }
   ],
   "metadata": {}
  },
  {
   "cell_type": "code",
   "execution_count": 174,
   "source": [
    "# Create others dairy dataframe\n",
    "\n",
    "others_dairy_df = pd.DataFrame(columns=cols)\n",
    "others_dairy_df['name'] = others_dairy\n",
    "others_dairy_df['sub_group'] = 'Others'\n",
    "others_dairy_df['food_group'] = 'Dairy'\n",
    "\n",
    "others_dairy_df.head()"
   ],
   "outputs": [
    {
     "output_type": "execute_result",
     "data": {
      "text/plain": [
       "  food_group sub_group           name\n",
       "0      Dairy    Others           whey\n",
       "1      Dairy    Others  cultured milk\n",
       "2      Dairy    Others          curds\n",
       "3      Dairy    Others      curd whey"
      ],
      "text/html": [
       "<div>\n",
       "<style scoped>\n",
       "    .dataframe tbody tr th:only-of-type {\n",
       "        vertical-align: middle;\n",
       "    }\n",
       "\n",
       "    .dataframe tbody tr th {\n",
       "        vertical-align: top;\n",
       "    }\n",
       "\n",
       "    .dataframe thead th {\n",
       "        text-align: right;\n",
       "    }\n",
       "</style>\n",
       "<table border=\"1\" class=\"dataframe\">\n",
       "  <thead>\n",
       "    <tr style=\"text-align: right;\">\n",
       "      <th></th>\n",
       "      <th>food_group</th>\n",
       "      <th>sub_group</th>\n",
       "      <th>name</th>\n",
       "    </tr>\n",
       "  </thead>\n",
       "  <tbody>\n",
       "    <tr>\n",
       "      <th>0</th>\n",
       "      <td>Dairy</td>\n",
       "      <td>Others</td>\n",
       "      <td>whey</td>\n",
       "    </tr>\n",
       "    <tr>\n",
       "      <th>1</th>\n",
       "      <td>Dairy</td>\n",
       "      <td>Others</td>\n",
       "      <td>cultured milk</td>\n",
       "    </tr>\n",
       "    <tr>\n",
       "      <th>2</th>\n",
       "      <td>Dairy</td>\n",
       "      <td>Others</td>\n",
       "      <td>curds</td>\n",
       "    </tr>\n",
       "    <tr>\n",
       "      <th>3</th>\n",
       "      <td>Dairy</td>\n",
       "      <td>Others</td>\n",
       "      <td>curd whey</td>\n",
       "    </tr>\n",
       "  </tbody>\n",
       "</table>\n",
       "</div>"
      ]
     },
     "metadata": {},
     "execution_count": 174
    }
   ],
   "metadata": {}
  },
  {
   "cell_type": "code",
   "execution_count": 175,
   "source": [
    "# Concat all veg dataframes into single dataframe\n",
    "dairy_df = pd.concat([healthy_milks_df, healthy_cheeses_df, unhealthy_dairy_df, others_dairy_df])\n",
    "\n",
    "# Get sum of rows to ensure the dataframe concatenated correctly\n",
    "print(\"Sum of rows across all dataframes: \", len(healthy_milks_df) + len(healthy_cheeses_df) + len(unhealthy_dairy_df) + len(others_dairy_df))\n",
    "print(len(dairy_df.index))"
   ],
   "outputs": [
    {
     "output_type": "stream",
     "name": "stdout",
     "text": [
      "Sum of rows across all dataframes:  47\n",
      "47\n"
     ]
    }
   ],
   "metadata": {}
  },
  {
   "cell_type": "code",
   "execution_count": 176,
   "source": [
    "dairy_df.to_pickle('dairy_dataset.pkl')"
   ],
   "outputs": [],
   "metadata": {}
  },
  {
   "cell_type": "markdown",
   "source": [
    "## Pre-processing List of Proteins"
   ],
   "metadata": {}
  },
  {
   "cell_type": "code",
   "execution_count": 192,
   "source": [
    "red_meat = \"beef, goat, lamb, pork, bear, bison, deer, elk, moose, opossum, rabbit, raccoon, and squirrel\"\n",
    "\n",
    "poultry = \"chicken, Cornish hens, dove, duck, ostrich, pheasant, and quail, goose, and turkey\"\n",
    "\n",
    "eggs = \"chicken eggs, duck eggs, quail eggs, ostrich eggs\"\n",
    "\n",
    "others_seafood = \"anchovy, light tuna\"\n",
    "\n",
    "oily_fish = \"herring, pilchards, salmon, sardines, sprats, trout, mackerel\"\n",
    "\n",
    "white_fish = \"Cod, black sea bass, catfish, crawfish, haddock, hake, plaice, perch, squid, pollock, coley, dab, flounder, red mullet, sole, gurnard, and tilapia, whiting\"\n",
    "\n",
    "shellfish = \"crab, clams, lobster, oyster, prawns, shrimp, mussels, scallops, squid, and langoustine\"\n",
    "\n",
    "nuts_seeds_soy = \"tree nuts, peanuts, nut butter, peanut butter, chia seeds, flax seeds, pumpkin seeds, sesame seeds, and sunflower seeds, seed butter, sesame butter, tahini butter, sunflower butter, tofu, tempeh, soy flour\""
   ],
   "outputs": [],
   "metadata": {}
  },
  {
   "cell_type": "code",
   "execution_count": 193,
   "source": [
    "# Remove the word 'and', split string by comma\n",
    "red_meat = red_meat.replace(' and ', '').split(\",\")\n",
    "# Remove whitespaces at start and end of each food item\n",
    "red_meat = [x.strip() for x in red_meat]\n",
    "print(red_meat)"
   ],
   "outputs": [
    {
     "output_type": "stream",
     "name": "stdout",
     "text": [
      "['beef', 'goat', 'lamb', 'pork', 'bear', 'bison', 'deer', 'elk', 'moose', 'opossum', 'rabbit', 'raccoon', 'squirrel']\n"
     ]
    }
   ],
   "metadata": {}
  },
  {
   "cell_type": "code",
   "execution_count": 194,
   "source": [
    "# Remove the word 'and', split string by comma\n",
    "poultry = poultry.replace(' and ', '').split(\",\")\n",
    "# Remove whitespaces at start and end of each food item\n",
    "poultry = [x.strip() for x in poultry]\n",
    "print(poultry)"
   ],
   "outputs": [
    {
     "output_type": "stream",
     "name": "stdout",
     "text": [
      "['chicken', 'Cornish hens', 'dove', 'duck', 'ostrich', 'pheasant', 'quail', 'goose', 'turkey']\n"
     ]
    }
   ],
   "metadata": {}
  },
  {
   "cell_type": "code",
   "execution_count": 195,
   "source": [
    "# Remove the word 'and', split string by comma\n",
    "eggs = eggs.replace(' and ', '').split(\",\")\n",
    "# Remove whitespaces at start and end of each food item\n",
    "eggs = [x.strip() for x in eggs]\n",
    "print(eggs)"
   ],
   "outputs": [
    {
     "output_type": "stream",
     "name": "stdout",
     "text": [
      "['chicken eggs', 'duck eggs', 'quail eggs', 'ostrich eggs']\n"
     ]
    }
   ],
   "metadata": {}
  },
  {
   "cell_type": "code",
   "execution_count": 196,
   "source": [
    "# Remove the word 'and', split string by comma\n",
    "oily_fish = oily_fish.replace(' and ', '').split(\",\")\n",
    "# Remove whitespaces at start and end of each food item\n",
    "oily_fish = [x.strip() for x in oily_fish]\n",
    "print(oily_fish)"
   ],
   "outputs": [
    {
     "output_type": "stream",
     "name": "stdout",
     "text": [
      "['herring', 'pilchards', 'salmon', 'sardines', 'sprats', 'trout', 'mackerel']\n"
     ]
    }
   ],
   "metadata": {}
  },
  {
   "cell_type": "code",
   "execution_count": 197,
   "source": [
    "# Remove the word 'and', split string by comma\n",
    "white_fish = white_fish.replace(' and ', '').split(\",\")\n",
    "# Remove whitespaces at start and end of each food item\n",
    "white_fish = [x.strip() for x in white_fish]\n",
    "print(white_fish)"
   ],
   "outputs": [
    {
     "output_type": "stream",
     "name": "stdout",
     "text": [
      "['Cod', 'black sea bass', 'catfish', 'crawfish', 'haddock', 'hake', 'plaice', 'perch', 'squid', 'pollock', 'coley', 'dab', 'flounder', 'red mullet', 'sole', 'gurnard', 'tilapia', 'whiting']\n"
     ]
    }
   ],
   "metadata": {}
  },
  {
   "cell_type": "code",
   "execution_count": 198,
   "source": [
    "# Remove the word 'and', split string by comma\n",
    "shellfish = shellfish.replace(' and ', '').split(\",\")\n",
    "# Remove whitespaces at start and end of each food item\n",
    "shellfish = [x.strip() for x in shellfish]\n",
    "print(shellfish)"
   ],
   "outputs": [
    {
     "output_type": "stream",
     "name": "stdout",
     "text": [
      "['crab', 'clams', 'lobster', 'oyster', 'prawns', 'shrimp', 'mussels', 'scallops', 'squid', 'langoustine']\n"
     ]
    }
   ],
   "metadata": {}
  },
  {
   "cell_type": "code",
   "execution_count": 199,
   "source": [
    "# Remove the word 'and', split string by comma\n",
    "nuts_seeds_soy = nuts_seeds_soy.replace(' and ', '').split(\",\")\n",
    "# Remove whitespaces at start and end of each food item\n",
    "nuts_seeds_soy = [x.strip() for x in nuts_seeds_soy]\n",
    "print(nuts_seeds_soy)"
   ],
   "outputs": [
    {
     "output_type": "stream",
     "name": "stdout",
     "text": [
      "['tree nuts', 'peanuts', 'nut butter', 'peanut butter', 'chia seeds', 'flax seeds', 'pumpkin seeds', 'sesame seeds', 'sunflower seeds', 'seed butter', 'sesame butter', 'tahini butter', 'sunflower butter', 'tofu', 'tempeh', 'soy flour']\n"
     ]
    }
   ],
   "metadata": {}
  },
  {
   "cell_type": "code",
   "execution_count": 200,
   "source": [
    "# Remove the word 'and', split string by comma\n",
    "others_seafood = others_seafood.replace(' and ', '').split(\",\")\n",
    "# Remove whitespaces at start and end of each food item\n",
    "others_seafood = [x.strip() for x in others_seafood]\n",
    "print(others_seafood)"
   ],
   "outputs": [
    {
     "output_type": "stream",
     "name": "stdout",
     "text": [
      "['anchovy', 'light tuna']\n"
     ]
    }
   ],
   "metadata": {}
  },
  {
   "cell_type": "code",
   "execution_count": 201,
   "source": [
    "# Create red meat dataframe\n",
    "\n",
    "red_meat_df = pd.DataFrame(columns=cols)\n",
    "red_meat_df['name'] = red_meat\n",
    "red_meat_df['sub_group'] = 'Red Meat'\n",
    "red_meat_df['food_group'] = 'Proteins'\n",
    "\n",
    "red_meat_df.head()"
   ],
   "outputs": [
    {
     "output_type": "execute_result",
     "data": {
      "text/plain": [
       "  food_group sub_group  name\n",
       "0   Proteins  Red Meat  beef\n",
       "1   Proteins  Red Meat  goat\n",
       "2   Proteins  Red Meat  lamb\n",
       "3   Proteins  Red Meat  pork\n",
       "4   Proteins  Red Meat  bear"
      ],
      "text/html": [
       "<div>\n",
       "<style scoped>\n",
       "    .dataframe tbody tr th:only-of-type {\n",
       "        vertical-align: middle;\n",
       "    }\n",
       "\n",
       "    .dataframe tbody tr th {\n",
       "        vertical-align: top;\n",
       "    }\n",
       "\n",
       "    .dataframe thead th {\n",
       "        text-align: right;\n",
       "    }\n",
       "</style>\n",
       "<table border=\"1\" class=\"dataframe\">\n",
       "  <thead>\n",
       "    <tr style=\"text-align: right;\">\n",
       "      <th></th>\n",
       "      <th>food_group</th>\n",
       "      <th>sub_group</th>\n",
       "      <th>name</th>\n",
       "    </tr>\n",
       "  </thead>\n",
       "  <tbody>\n",
       "    <tr>\n",
       "      <th>0</th>\n",
       "      <td>Proteins</td>\n",
       "      <td>Red Meat</td>\n",
       "      <td>beef</td>\n",
       "    </tr>\n",
       "    <tr>\n",
       "      <th>1</th>\n",
       "      <td>Proteins</td>\n",
       "      <td>Red Meat</td>\n",
       "      <td>goat</td>\n",
       "    </tr>\n",
       "    <tr>\n",
       "      <th>2</th>\n",
       "      <td>Proteins</td>\n",
       "      <td>Red Meat</td>\n",
       "      <td>lamb</td>\n",
       "    </tr>\n",
       "    <tr>\n",
       "      <th>3</th>\n",
       "      <td>Proteins</td>\n",
       "      <td>Red Meat</td>\n",
       "      <td>pork</td>\n",
       "    </tr>\n",
       "    <tr>\n",
       "      <th>4</th>\n",
       "      <td>Proteins</td>\n",
       "      <td>Red Meat</td>\n",
       "      <td>bear</td>\n",
       "    </tr>\n",
       "  </tbody>\n",
       "</table>\n",
       "</div>"
      ]
     },
     "metadata": {},
     "execution_count": 201
    }
   ],
   "metadata": {}
  },
  {
   "cell_type": "code",
   "execution_count": 202,
   "source": [
    "# Create poultry dataframe\n",
    "\n",
    "poultry_df = pd.DataFrame(columns=cols)\n",
    "poultry_df['name'] = poultry\n",
    "poultry_df['sub_group'] = 'Poultry'\n",
    "poultry_df['food_group'] = 'Proteins'\n",
    "\n",
    "poultry_df.head()"
   ],
   "outputs": [
    {
     "output_type": "execute_result",
     "data": {
      "text/plain": [
       "  food_group sub_group          name\n",
       "0   Proteins   Poultry       chicken\n",
       "1   Proteins   Poultry  Cornish hens\n",
       "2   Proteins   Poultry          dove\n",
       "3   Proteins   Poultry          duck\n",
       "4   Proteins   Poultry       ostrich"
      ],
      "text/html": [
       "<div>\n",
       "<style scoped>\n",
       "    .dataframe tbody tr th:only-of-type {\n",
       "        vertical-align: middle;\n",
       "    }\n",
       "\n",
       "    .dataframe tbody tr th {\n",
       "        vertical-align: top;\n",
       "    }\n",
       "\n",
       "    .dataframe thead th {\n",
       "        text-align: right;\n",
       "    }\n",
       "</style>\n",
       "<table border=\"1\" class=\"dataframe\">\n",
       "  <thead>\n",
       "    <tr style=\"text-align: right;\">\n",
       "      <th></th>\n",
       "      <th>food_group</th>\n",
       "      <th>sub_group</th>\n",
       "      <th>name</th>\n",
       "    </tr>\n",
       "  </thead>\n",
       "  <tbody>\n",
       "    <tr>\n",
       "      <th>0</th>\n",
       "      <td>Proteins</td>\n",
       "      <td>Poultry</td>\n",
       "      <td>chicken</td>\n",
       "    </tr>\n",
       "    <tr>\n",
       "      <th>1</th>\n",
       "      <td>Proteins</td>\n",
       "      <td>Poultry</td>\n",
       "      <td>Cornish hens</td>\n",
       "    </tr>\n",
       "    <tr>\n",
       "      <th>2</th>\n",
       "      <td>Proteins</td>\n",
       "      <td>Poultry</td>\n",
       "      <td>dove</td>\n",
       "    </tr>\n",
       "    <tr>\n",
       "      <th>3</th>\n",
       "      <td>Proteins</td>\n",
       "      <td>Poultry</td>\n",
       "      <td>duck</td>\n",
       "    </tr>\n",
       "    <tr>\n",
       "      <th>4</th>\n",
       "      <td>Proteins</td>\n",
       "      <td>Poultry</td>\n",
       "      <td>ostrich</td>\n",
       "    </tr>\n",
       "  </tbody>\n",
       "</table>\n",
       "</div>"
      ]
     },
     "metadata": {},
     "execution_count": 202
    }
   ],
   "metadata": {}
  },
  {
   "cell_type": "code",
   "execution_count": 203,
   "source": [
    "# Create eggs dataframe\n",
    "\n",
    "eggs_df = pd.DataFrame(columns=cols)\n",
    "eggs_df['name'] = eggs\n",
    "eggs_df['sub_group'] = 'Eggs'\n",
    "eggs_df['food_group'] = 'Proteins'\n",
    "\n",
    "eggs_df.head()"
   ],
   "outputs": [
    {
     "output_type": "execute_result",
     "data": {
      "text/plain": [
       "  food_group sub_group          name\n",
       "0   Proteins      Eggs  chicken eggs\n",
       "1   Proteins      Eggs     duck eggs\n",
       "2   Proteins      Eggs    quail eggs\n",
       "3   Proteins      Eggs  ostrich eggs"
      ],
      "text/html": [
       "<div>\n",
       "<style scoped>\n",
       "    .dataframe tbody tr th:only-of-type {\n",
       "        vertical-align: middle;\n",
       "    }\n",
       "\n",
       "    .dataframe tbody tr th {\n",
       "        vertical-align: top;\n",
       "    }\n",
       "\n",
       "    .dataframe thead th {\n",
       "        text-align: right;\n",
       "    }\n",
       "</style>\n",
       "<table border=\"1\" class=\"dataframe\">\n",
       "  <thead>\n",
       "    <tr style=\"text-align: right;\">\n",
       "      <th></th>\n",
       "      <th>food_group</th>\n",
       "      <th>sub_group</th>\n",
       "      <th>name</th>\n",
       "    </tr>\n",
       "  </thead>\n",
       "  <tbody>\n",
       "    <tr>\n",
       "      <th>0</th>\n",
       "      <td>Proteins</td>\n",
       "      <td>Eggs</td>\n",
       "      <td>chicken eggs</td>\n",
       "    </tr>\n",
       "    <tr>\n",
       "      <th>1</th>\n",
       "      <td>Proteins</td>\n",
       "      <td>Eggs</td>\n",
       "      <td>duck eggs</td>\n",
       "    </tr>\n",
       "    <tr>\n",
       "      <th>2</th>\n",
       "      <td>Proteins</td>\n",
       "      <td>Eggs</td>\n",
       "      <td>quail eggs</td>\n",
       "    </tr>\n",
       "    <tr>\n",
       "      <th>3</th>\n",
       "      <td>Proteins</td>\n",
       "      <td>Eggs</td>\n",
       "      <td>ostrich eggs</td>\n",
       "    </tr>\n",
       "  </tbody>\n",
       "</table>\n",
       "</div>"
      ]
     },
     "metadata": {},
     "execution_count": 203
    }
   ],
   "metadata": {}
  },
  {
   "cell_type": "code",
   "execution_count": 204,
   "source": [
    "# Create white fish dataframe\n",
    "\n",
    "whitefish_df = pd.DataFrame(columns=cols)\n",
    "whitefish_df['name'] = white_fish\n",
    "whitefish_df['sub_group'] = 'Seafood White Fish'\n",
    "whitefish_df['food_group'] = 'Proteins'\n",
    "\n",
    "whitefish_df.head()"
   ],
   "outputs": [
    {
     "output_type": "execute_result",
     "data": {
      "text/plain": [
       "  food_group           sub_group            name\n",
       "0   Proteins  Seafood White Fish             Cod\n",
       "1   Proteins  Seafood White Fish  black sea bass\n",
       "2   Proteins  Seafood White Fish         catfish\n",
       "3   Proteins  Seafood White Fish        crawfish\n",
       "4   Proteins  Seafood White Fish         haddock"
      ],
      "text/html": [
       "<div>\n",
       "<style scoped>\n",
       "    .dataframe tbody tr th:only-of-type {\n",
       "        vertical-align: middle;\n",
       "    }\n",
       "\n",
       "    .dataframe tbody tr th {\n",
       "        vertical-align: top;\n",
       "    }\n",
       "\n",
       "    .dataframe thead th {\n",
       "        text-align: right;\n",
       "    }\n",
       "</style>\n",
       "<table border=\"1\" class=\"dataframe\">\n",
       "  <thead>\n",
       "    <tr style=\"text-align: right;\">\n",
       "      <th></th>\n",
       "      <th>food_group</th>\n",
       "      <th>sub_group</th>\n",
       "      <th>name</th>\n",
       "    </tr>\n",
       "  </thead>\n",
       "  <tbody>\n",
       "    <tr>\n",
       "      <th>0</th>\n",
       "      <td>Proteins</td>\n",
       "      <td>Seafood White Fish</td>\n",
       "      <td>Cod</td>\n",
       "    </tr>\n",
       "    <tr>\n",
       "      <th>1</th>\n",
       "      <td>Proteins</td>\n",
       "      <td>Seafood White Fish</td>\n",
       "      <td>black sea bass</td>\n",
       "    </tr>\n",
       "    <tr>\n",
       "      <th>2</th>\n",
       "      <td>Proteins</td>\n",
       "      <td>Seafood White Fish</td>\n",
       "      <td>catfish</td>\n",
       "    </tr>\n",
       "    <tr>\n",
       "      <th>3</th>\n",
       "      <td>Proteins</td>\n",
       "      <td>Seafood White Fish</td>\n",
       "      <td>crawfish</td>\n",
       "    </tr>\n",
       "    <tr>\n",
       "      <th>4</th>\n",
       "      <td>Proteins</td>\n",
       "      <td>Seafood White Fish</td>\n",
       "      <td>haddock</td>\n",
       "    </tr>\n",
       "  </tbody>\n",
       "</table>\n",
       "</div>"
      ]
     },
     "metadata": {},
     "execution_count": 204
    }
   ],
   "metadata": {}
  },
  {
   "cell_type": "code",
   "execution_count": 205,
   "source": [
    "# Create oily fish dataframe\n",
    "\n",
    "oilyfish_df = pd.DataFrame(columns=cols)\n",
    "oilyfish_df['name'] = oily_fish\n",
    "oilyfish_df['sub_group'] = 'Seafood Oily Fish'\n",
    "oilyfish_df['food_group'] = 'Proteins'\n",
    "\n",
    "oilyfish_df.head()"
   ],
   "outputs": [
    {
     "output_type": "execute_result",
     "data": {
      "text/plain": [
       "  food_group          sub_group       name\n",
       "0   Proteins  Seafood Oily Fish    herring\n",
       "1   Proteins  Seafood Oily Fish  pilchards\n",
       "2   Proteins  Seafood Oily Fish     salmon\n",
       "3   Proteins  Seafood Oily Fish   sardines\n",
       "4   Proteins  Seafood Oily Fish     sprats"
      ],
      "text/html": [
       "<div>\n",
       "<style scoped>\n",
       "    .dataframe tbody tr th:only-of-type {\n",
       "        vertical-align: middle;\n",
       "    }\n",
       "\n",
       "    .dataframe tbody tr th {\n",
       "        vertical-align: top;\n",
       "    }\n",
       "\n",
       "    .dataframe thead th {\n",
       "        text-align: right;\n",
       "    }\n",
       "</style>\n",
       "<table border=\"1\" class=\"dataframe\">\n",
       "  <thead>\n",
       "    <tr style=\"text-align: right;\">\n",
       "      <th></th>\n",
       "      <th>food_group</th>\n",
       "      <th>sub_group</th>\n",
       "      <th>name</th>\n",
       "    </tr>\n",
       "  </thead>\n",
       "  <tbody>\n",
       "    <tr>\n",
       "      <th>0</th>\n",
       "      <td>Proteins</td>\n",
       "      <td>Seafood Oily Fish</td>\n",
       "      <td>herring</td>\n",
       "    </tr>\n",
       "    <tr>\n",
       "      <th>1</th>\n",
       "      <td>Proteins</td>\n",
       "      <td>Seafood Oily Fish</td>\n",
       "      <td>pilchards</td>\n",
       "    </tr>\n",
       "    <tr>\n",
       "      <th>2</th>\n",
       "      <td>Proteins</td>\n",
       "      <td>Seafood Oily Fish</td>\n",
       "      <td>salmon</td>\n",
       "    </tr>\n",
       "    <tr>\n",
       "      <th>3</th>\n",
       "      <td>Proteins</td>\n",
       "      <td>Seafood Oily Fish</td>\n",
       "      <td>sardines</td>\n",
       "    </tr>\n",
       "    <tr>\n",
       "      <th>4</th>\n",
       "      <td>Proteins</td>\n",
       "      <td>Seafood Oily Fish</td>\n",
       "      <td>sprats</td>\n",
       "    </tr>\n",
       "  </tbody>\n",
       "</table>\n",
       "</div>"
      ]
     },
     "metadata": {},
     "execution_count": 205
    }
   ],
   "metadata": {}
  },
  {
   "cell_type": "code",
   "execution_count": 207,
   "source": [
    "# Create shellfish dataframe\n",
    "\n",
    "shellfish_df = pd.DataFrame(columns=cols)\n",
    "shellfish_df['name'] = shellfish\n",
    "shellfish_df['sub_group'] = 'Seafood Shellfish'\n",
    "shellfish_df['food_group'] = 'Proteins'\n",
    "\n",
    "shellfish_df.head()"
   ],
   "outputs": [
    {
     "output_type": "execute_result",
     "data": {
      "text/plain": [
       "  food_group          sub_group     name\n",
       "0   Proteins  Seafood Shellfish     crab\n",
       "1   Proteins  Seafood Shellfish    clams\n",
       "2   Proteins  Seafood Shellfish  lobster\n",
       "3   Proteins  Seafood Shellfish   oyster\n",
       "4   Proteins  Seafood Shellfish   prawns"
      ],
      "text/html": [
       "<div>\n",
       "<style scoped>\n",
       "    .dataframe tbody tr th:only-of-type {\n",
       "        vertical-align: middle;\n",
       "    }\n",
       "\n",
       "    .dataframe tbody tr th {\n",
       "        vertical-align: top;\n",
       "    }\n",
       "\n",
       "    .dataframe thead th {\n",
       "        text-align: right;\n",
       "    }\n",
       "</style>\n",
       "<table border=\"1\" class=\"dataframe\">\n",
       "  <thead>\n",
       "    <tr style=\"text-align: right;\">\n",
       "      <th></th>\n",
       "      <th>food_group</th>\n",
       "      <th>sub_group</th>\n",
       "      <th>name</th>\n",
       "    </tr>\n",
       "  </thead>\n",
       "  <tbody>\n",
       "    <tr>\n",
       "      <th>0</th>\n",
       "      <td>Proteins</td>\n",
       "      <td>Seafood Shellfish</td>\n",
       "      <td>crab</td>\n",
       "    </tr>\n",
       "    <tr>\n",
       "      <th>1</th>\n",
       "      <td>Proteins</td>\n",
       "      <td>Seafood Shellfish</td>\n",
       "      <td>clams</td>\n",
       "    </tr>\n",
       "    <tr>\n",
       "      <th>2</th>\n",
       "      <td>Proteins</td>\n",
       "      <td>Seafood Shellfish</td>\n",
       "      <td>lobster</td>\n",
       "    </tr>\n",
       "    <tr>\n",
       "      <th>3</th>\n",
       "      <td>Proteins</td>\n",
       "      <td>Seafood Shellfish</td>\n",
       "      <td>oyster</td>\n",
       "    </tr>\n",
       "    <tr>\n",
       "      <th>4</th>\n",
       "      <td>Proteins</td>\n",
       "      <td>Seafood Shellfish</td>\n",
       "      <td>prawns</td>\n",
       "    </tr>\n",
       "  </tbody>\n",
       "</table>\n",
       "</div>"
      ]
     },
     "metadata": {},
     "execution_count": 207
    }
   ],
   "metadata": {}
  },
  {
   "cell_type": "code",
   "execution_count": 208,
   "source": [
    "# Create others seafood dataframe\n",
    "\n",
    "others_seafood_df = pd.DataFrame(columns=cols)\n",
    "others_seafood_df['name'] = others_dairy\n",
    "others_seafood_df['sub_group'] = 'Seafood Others'\n",
    "others_seafood_df['food_group'] = 'Proteins'\n",
    "\n",
    "others_seafood_df.head()"
   ],
   "outputs": [
    {
     "output_type": "execute_result",
     "data": {
      "text/plain": [
       "  food_group       sub_group           name\n",
       "0   Proteins  Seafood Others           whey\n",
       "1   Proteins  Seafood Others  cultured milk\n",
       "2   Proteins  Seafood Others          curds\n",
       "3   Proteins  Seafood Others      curd whey"
      ],
      "text/html": [
       "<div>\n",
       "<style scoped>\n",
       "    .dataframe tbody tr th:only-of-type {\n",
       "        vertical-align: middle;\n",
       "    }\n",
       "\n",
       "    .dataframe tbody tr th {\n",
       "        vertical-align: top;\n",
       "    }\n",
       "\n",
       "    .dataframe thead th {\n",
       "        text-align: right;\n",
       "    }\n",
       "</style>\n",
       "<table border=\"1\" class=\"dataframe\">\n",
       "  <thead>\n",
       "    <tr style=\"text-align: right;\">\n",
       "      <th></th>\n",
       "      <th>food_group</th>\n",
       "      <th>sub_group</th>\n",
       "      <th>name</th>\n",
       "    </tr>\n",
       "  </thead>\n",
       "  <tbody>\n",
       "    <tr>\n",
       "      <th>0</th>\n",
       "      <td>Proteins</td>\n",
       "      <td>Seafood Others</td>\n",
       "      <td>whey</td>\n",
       "    </tr>\n",
       "    <tr>\n",
       "      <th>1</th>\n",
       "      <td>Proteins</td>\n",
       "      <td>Seafood Others</td>\n",
       "      <td>cultured milk</td>\n",
       "    </tr>\n",
       "    <tr>\n",
       "      <th>2</th>\n",
       "      <td>Proteins</td>\n",
       "      <td>Seafood Others</td>\n",
       "      <td>curds</td>\n",
       "    </tr>\n",
       "    <tr>\n",
       "      <th>3</th>\n",
       "      <td>Proteins</td>\n",
       "      <td>Seafood Others</td>\n",
       "      <td>curd whey</td>\n",
       "    </tr>\n",
       "  </tbody>\n",
       "</table>\n",
       "</div>"
      ]
     },
     "metadata": {},
     "execution_count": 208
    }
   ],
   "metadata": {}
  },
  {
   "cell_type": "code",
   "execution_count": 206,
   "source": [
    "# Create nuts seeds soy dataframe\n",
    "\n",
    "nuts_seeds_soy_df = pd.DataFrame(columns=cols)\n",
    "nuts_seeds_soy_df['name'] = nuts_seeds_soy\n",
    "nuts_seeds_soy_df['sub_group'] = 'Nuts Seeds Soy'\n",
    "nuts_seeds_soy_df['food_group'] = 'Proteins'\n",
    "\n",
    "nuts_seeds_soy_df.head()"
   ],
   "outputs": [
    {
     "output_type": "execute_result",
     "data": {
      "text/plain": [
       "  food_group       sub_group           name\n",
       "0   Proteins  Nuts Seeds Soy      tree nuts\n",
       "1   Proteins  Nuts Seeds Soy        peanuts\n",
       "2   Proteins  Nuts Seeds Soy     nut butter\n",
       "3   Proteins  Nuts Seeds Soy  peanut butter\n",
       "4   Proteins  Nuts Seeds Soy     chia seeds"
      ],
      "text/html": [
       "<div>\n",
       "<style scoped>\n",
       "    .dataframe tbody tr th:only-of-type {\n",
       "        vertical-align: middle;\n",
       "    }\n",
       "\n",
       "    .dataframe tbody tr th {\n",
       "        vertical-align: top;\n",
       "    }\n",
       "\n",
       "    .dataframe thead th {\n",
       "        text-align: right;\n",
       "    }\n",
       "</style>\n",
       "<table border=\"1\" class=\"dataframe\">\n",
       "  <thead>\n",
       "    <tr style=\"text-align: right;\">\n",
       "      <th></th>\n",
       "      <th>food_group</th>\n",
       "      <th>sub_group</th>\n",
       "      <th>name</th>\n",
       "    </tr>\n",
       "  </thead>\n",
       "  <tbody>\n",
       "    <tr>\n",
       "      <th>0</th>\n",
       "      <td>Proteins</td>\n",
       "      <td>Nuts Seeds Soy</td>\n",
       "      <td>tree nuts</td>\n",
       "    </tr>\n",
       "    <tr>\n",
       "      <th>1</th>\n",
       "      <td>Proteins</td>\n",
       "      <td>Nuts Seeds Soy</td>\n",
       "      <td>peanuts</td>\n",
       "    </tr>\n",
       "    <tr>\n",
       "      <th>2</th>\n",
       "      <td>Proteins</td>\n",
       "      <td>Nuts Seeds Soy</td>\n",
       "      <td>nut butter</td>\n",
       "    </tr>\n",
       "    <tr>\n",
       "      <th>3</th>\n",
       "      <td>Proteins</td>\n",
       "      <td>Nuts Seeds Soy</td>\n",
       "      <td>peanut butter</td>\n",
       "    </tr>\n",
       "    <tr>\n",
       "      <th>4</th>\n",
       "      <td>Proteins</td>\n",
       "      <td>Nuts Seeds Soy</td>\n",
       "      <td>chia seeds</td>\n",
       "    </tr>\n",
       "  </tbody>\n",
       "</table>\n",
       "</div>"
      ]
     },
     "metadata": {},
     "execution_count": 206
    }
   ],
   "metadata": {}
  },
  {
   "cell_type": "code",
   "execution_count": 209,
   "source": [
    "# Concat all protein dataframes into single dataframe\n",
    "proteins_df_list = [red_meat_df, poultry_df, eggs_df, whitefish_df, oilyfish_df, shellfish_df, others_seafood_df, nuts_seeds_soy_df]\n",
    "rows_count = [len(x) for x in proteins_df_list]\n",
    "\n",
    "proteins_df = pd.concat(proteins_df_list)\n",
    "\n",
    "# Get sum of rows to ensure the dataframe concatenated correctly\n",
    "print(\"Sum of rows across all dataframes: \", sum(rows_count))\n",
    "print(len(proteins_df.index))"
   ],
   "outputs": [
    {
     "output_type": "stream",
     "name": "stdout",
     "text": [
      "Sum of rows across all dataframes:  81\n",
      "81\n"
     ]
    }
   ],
   "metadata": {}
  },
  {
   "cell_type": "code",
   "execution_count": 210,
   "source": [
    "proteins_df.to_pickle('proteins_dataset.pkl')"
   ],
   "outputs": [],
   "metadata": {}
  },
  {
   "cell_type": "markdown",
   "source": [
    "## Exporting Data as .txt For NLU"
   ],
   "metadata": {}
  },
  {
   "cell_type": "code",
   "execution_count": 212,
   "source": [
    "all_vegetables = veg_df['name'].tolist()\n",
    "all_fruits = fruit_df['name'].tolist()\n",
    "all_grains = grains_df['name'].tolist()\n",
    "all_dairy = dairy_df['name'].tolist()\n",
    "all_proteins = proteins_df['name'].tolist()"
   ],
   "outputs": [],
   "metadata": {}
  },
  {
   "cell_type": "code",
   "execution_count": 220,
   "source": [
    "# Write all food items to .txt files in yml format\n",
    "def write_to_textfile(list_to_convert, file_name):\n",
    "\n",
    "    with open(f\"{file_name}.txt\", 'w') as f:\n",
    "        # File header\n",
    "        f.write(\"nlu:\\n\" + \n",
    "                f\"- lookup: {file_name}\\n\" +\n",
    "                \"  examples: |\\n\")\n",
    "        # Write food items\n",
    "        for item in list_to_convert:\n",
    "            f.write(f\"    - {item}\\n\")\n",
    "    \n",
    "    print(f\"{file_name}.txt has been saved.\")\n"
   ],
   "outputs": [],
   "metadata": {}
  },
  {
   "cell_type": "code",
   "execution_count": 222,
   "source": [
    "write_to_textfile(all_vegetables, \"vegetables\")\n",
    "write_to_textfile(all_fruits, \"fruits\")\n",
    "write_to_textfile(all_grains, \"grains\")\n",
    "write_to_textfile(all_dairy, \"dairy\")\n",
    "write_to_textfile(all_proteins, \"proteins\")"
   ],
   "outputs": [
    {
     "output_type": "stream",
     "name": "stdout",
     "text": [
      "vegetables.txt has been saved.\n",
      "fruits.txt has been saved.\n",
      "grains.txt has been saved.\n",
      "dairy.txt has been saved.\n",
      "proteins.txt has been saved.\n"
     ]
    }
   ],
   "metadata": {}
  },
  {
   "cell_type": "code",
   "execution_count": 1,
   "source": [
    "import tensorflow as tf"
   ],
   "outputs": [
    {
     "output_type": "stream",
     "name": "stderr",
     "text": [
      "2021-07-17 21:29:33.295157: I tensorflow/stream_executor/platform/default/dso_loader.cc:48] Successfully opened dynamic library libcudart.so.10.1\n"
     ]
    }
   ],
   "metadata": {}
  },
  {
   "cell_type": "code",
   "execution_count": 2,
   "source": [
    "tf.config.list_physical_devices('GPU')"
   ],
   "outputs": [
    {
     "output_type": "stream",
     "name": "stderr",
     "text": [
      "2021-07-17 21:30:14.985212: I tensorflow/stream_executor/platform/default/dso_loader.cc:48] Successfully opened dynamic library libcuda.so.1\n",
      "2021-07-17 21:30:15.010274: I tensorflow/stream_executor/cuda/cuda_gpu_executor.cc:982] successful NUMA node read from SysFS had negative value (-1), but there must be at least one NUMA node, so returning NUMA node zero\n",
      "2021-07-17 21:30:15.010868: I tensorflow/core/common_runtime/gpu/gpu_device.cc:1716] Found device 0 with properties: \n",
      "pciBusID: 0000:01:00.0 name: Quadro P4000 computeCapability: 6.1\n",
      "coreClock: 1.48GHz coreCount: 14 deviceMemorySize: 7.93GiB deviceMemoryBandwidth: 226.62GiB/s\n",
      "2021-07-17 21:30:15.010889: I tensorflow/stream_executor/platform/default/dso_loader.cc:48] Successfully opened dynamic library libcudart.so.10.1\n",
      "2021-07-17 21:30:15.013886: I tensorflow/stream_executor/platform/default/dso_loader.cc:48] Successfully opened dynamic library libcublas.so.10\n",
      "2021-07-17 21:30:15.015863: I tensorflow/stream_executor/platform/default/dso_loader.cc:48] Successfully opened dynamic library libcufft.so.10\n",
      "2021-07-17 21:30:15.016729: I tensorflow/stream_executor/platform/default/dso_loader.cc:48] Successfully opened dynamic library libcurand.so.10\n",
      "2021-07-17 21:30:15.018873: I tensorflow/stream_executor/platform/default/dso_loader.cc:48] Successfully opened dynamic library libcusolver.so.10\n",
      "2021-07-17 21:30:15.020364: I tensorflow/stream_executor/platform/default/dso_loader.cc:48] Successfully opened dynamic library libcusparse.so.10\n",
      "2021-07-17 21:30:15.020543: W tensorflow/stream_executor/platform/default/dso_loader.cc:59] Could not load dynamic library 'libcudnn.so.7'; dlerror: libcudnn.so.7: cannot open shared object file: No such file or directory; LD_LIBRARY_PATH: /opt/geant4.10.05/lib:/opt/flowsolAIR/FSLibs/linux64:/opt/flowsolAIR/SysLibs/linux64:/opt/flowsolAIR/CasLibs/linux64\n",
      "2021-07-17 21:30:15.020553: W tensorflow/core/common_runtime/gpu/gpu_device.cc:1753] Cannot dlopen some GPU libraries. Please make sure the missing libraries mentioned above are installed properly if you would like to use GPU. Follow the guide at https://www.tensorflow.org/install/gpu for how to download and setup the required libraries for your platform.\n",
      "Skipping registering GPU devices...\n"
     ]
    },
    {
     "output_type": "execute_result",
     "data": {
      "text/plain": [
       "[]"
      ]
     },
     "metadata": {},
     "execution_count": 2
    }
   ],
   "metadata": {}
  },
  {
   "cell_type": "code",
   "execution_count": 1,
   "source": [
    "import pandas as pd"
   ],
   "outputs": [],
   "metadata": {}
  },
  {
   "cell_type": "code",
   "execution_count": 2,
   "source": [
    "dairy = pd.read_pickle('dairy_dataset.pkl')\n",
    "dairy.head()"
   ],
   "outputs": [
    {
     "output_type": "execute_result",
     "data": {
      "text/plain": [
       "  food_group     sub_group        name\n",
       "0      Dairy  Healthy Milk        milk\n",
       "1      Dairy  Healthy Milk    soy milk\n",
       "2      Dairy  Healthy Milk  buttermilk\n",
       "3      Dairy  Healthy Milk      yogurt\n",
       "4      Dairy  Healthy Milk       kefir"
      ],
      "text/html": [
       "<div>\n",
       "<style scoped>\n",
       "    .dataframe tbody tr th:only-of-type {\n",
       "        vertical-align: middle;\n",
       "    }\n",
       "\n",
       "    .dataframe tbody tr th {\n",
       "        vertical-align: top;\n",
       "    }\n",
       "\n",
       "    .dataframe thead th {\n",
       "        text-align: right;\n",
       "    }\n",
       "</style>\n",
       "<table border=\"1\" class=\"dataframe\">\n",
       "  <thead>\n",
       "    <tr style=\"text-align: right;\">\n",
       "      <th></th>\n",
       "      <th>food_group</th>\n",
       "      <th>sub_group</th>\n",
       "      <th>name</th>\n",
       "    </tr>\n",
       "  </thead>\n",
       "  <tbody>\n",
       "    <tr>\n",
       "      <th>0</th>\n",
       "      <td>Dairy</td>\n",
       "      <td>Healthy Milk</td>\n",
       "      <td>milk</td>\n",
       "    </tr>\n",
       "    <tr>\n",
       "      <th>1</th>\n",
       "      <td>Dairy</td>\n",
       "      <td>Healthy Milk</td>\n",
       "      <td>soy milk</td>\n",
       "    </tr>\n",
       "    <tr>\n",
       "      <th>2</th>\n",
       "      <td>Dairy</td>\n",
       "      <td>Healthy Milk</td>\n",
       "      <td>buttermilk</td>\n",
       "    </tr>\n",
       "    <tr>\n",
       "      <th>3</th>\n",
       "      <td>Dairy</td>\n",
       "      <td>Healthy Milk</td>\n",
       "      <td>yogurt</td>\n",
       "    </tr>\n",
       "    <tr>\n",
       "      <th>4</th>\n",
       "      <td>Dairy</td>\n",
       "      <td>Healthy Milk</td>\n",
       "      <td>kefir</td>\n",
       "    </tr>\n",
       "  </tbody>\n",
       "</table>\n",
       "</div>"
      ]
     },
     "metadata": {},
     "execution_count": 2
    }
   ],
   "metadata": {}
  },
  {
   "cell_type": "code",
   "execution_count": null,
   "source": [
    "print(dairy)"
   ],
   "outputs": [],
   "metadata": {}
  },
  {
   "cell_type": "code",
   "execution_count": 3,
   "source": [
    "fruit = pd.read_pickle('fruit_dataset.pkl')\n",
    "fruit.head()"
   ],
   "outputs": [
    {
     "output_type": "execute_result",
     "data": {
      "text/plain": [
       "  food_group sub_group          name\n",
       "0     Fruits      None   Asian pears\n",
       "1     Fruits      None       bananas\n",
       "2     Fruits      None  blackberries\n",
       "3     Fruits      None   blueberries\n",
       "4     Fruits      None   cranberries"
      ],
      "text/html": [
       "<div>\n",
       "<style scoped>\n",
       "    .dataframe tbody tr th:only-of-type {\n",
       "        vertical-align: middle;\n",
       "    }\n",
       "\n",
       "    .dataframe tbody tr th {\n",
       "        vertical-align: top;\n",
       "    }\n",
       "\n",
       "    .dataframe thead th {\n",
       "        text-align: right;\n",
       "    }\n",
       "</style>\n",
       "<table border=\"1\" class=\"dataframe\">\n",
       "  <thead>\n",
       "    <tr style=\"text-align: right;\">\n",
       "      <th></th>\n",
       "      <th>food_group</th>\n",
       "      <th>sub_group</th>\n",
       "      <th>name</th>\n",
       "    </tr>\n",
       "  </thead>\n",
       "  <tbody>\n",
       "    <tr>\n",
       "      <th>0</th>\n",
       "      <td>Fruits</td>\n",
       "      <td>None</td>\n",
       "      <td>Asian pears</td>\n",
       "    </tr>\n",
       "    <tr>\n",
       "      <th>1</th>\n",
       "      <td>Fruits</td>\n",
       "      <td>None</td>\n",
       "      <td>bananas</td>\n",
       "    </tr>\n",
       "    <tr>\n",
       "      <th>2</th>\n",
       "      <td>Fruits</td>\n",
       "      <td>None</td>\n",
       "      <td>blackberries</td>\n",
       "    </tr>\n",
       "    <tr>\n",
       "      <th>3</th>\n",
       "      <td>Fruits</td>\n",
       "      <td>None</td>\n",
       "      <td>blueberries</td>\n",
       "    </tr>\n",
       "    <tr>\n",
       "      <th>4</th>\n",
       "      <td>Fruits</td>\n",
       "      <td>None</td>\n",
       "      <td>cranberries</td>\n",
       "    </tr>\n",
       "  </tbody>\n",
       "</table>\n",
       "</div>"
      ]
     },
     "metadata": {},
     "execution_count": 3
    }
   ],
   "metadata": {}
  },
  {
   "cell_type": "code",
   "execution_count": 4,
   "source": [
    "grains = pd.read_pickle('grains_dataset.pkl')\n",
    "grains.head()"
   ],
   "outputs": [
    {
     "output_type": "execute_result",
     "data": {
      "text/plain": [
       "  food_group     sub_group           name\n",
       "0     Grains  Whole Grains       amaranth\n",
       "1     Grains  Whole Grains  hulled barley\n",
       "2     Grains  Whole Grains     brown rice\n",
       "3     Grains  Whole Grains      buckwheat\n",
       "4     Grains  Whole Grains         bulgur"
      ],
      "text/html": [
       "<div>\n",
       "<style scoped>\n",
       "    .dataframe tbody tr th:only-of-type {\n",
       "        vertical-align: middle;\n",
       "    }\n",
       "\n",
       "    .dataframe tbody tr th {\n",
       "        vertical-align: top;\n",
       "    }\n",
       "\n",
       "    .dataframe thead th {\n",
       "        text-align: right;\n",
       "    }\n",
       "</style>\n",
       "<table border=\"1\" class=\"dataframe\">\n",
       "  <thead>\n",
       "    <tr style=\"text-align: right;\">\n",
       "      <th></th>\n",
       "      <th>food_group</th>\n",
       "      <th>sub_group</th>\n",
       "      <th>name</th>\n",
       "    </tr>\n",
       "  </thead>\n",
       "  <tbody>\n",
       "    <tr>\n",
       "      <th>0</th>\n",
       "      <td>Grains</td>\n",
       "      <td>Whole Grains</td>\n",
       "      <td>amaranth</td>\n",
       "    </tr>\n",
       "    <tr>\n",
       "      <th>1</th>\n",
       "      <td>Grains</td>\n",
       "      <td>Whole Grains</td>\n",
       "      <td>hulled barley</td>\n",
       "    </tr>\n",
       "    <tr>\n",
       "      <th>2</th>\n",
       "      <td>Grains</td>\n",
       "      <td>Whole Grains</td>\n",
       "      <td>brown rice</td>\n",
       "    </tr>\n",
       "    <tr>\n",
       "      <th>3</th>\n",
       "      <td>Grains</td>\n",
       "      <td>Whole Grains</td>\n",
       "      <td>buckwheat</td>\n",
       "    </tr>\n",
       "    <tr>\n",
       "      <th>4</th>\n",
       "      <td>Grains</td>\n",
       "      <td>Whole Grains</td>\n",
       "      <td>bulgur</td>\n",
       "    </tr>\n",
       "  </tbody>\n",
       "</table>\n",
       "</div>"
      ]
     },
     "metadata": {},
     "execution_count": 4
    }
   ],
   "metadata": {}
  },
  {
   "cell_type": "code",
   "execution_count": 5,
   "source": [
    "proteins = pd.read_pickle('proteins_dataset.pkl')\n",
    "proteins.head()"
   ],
   "outputs": [
    {
     "output_type": "execute_result",
     "data": {
      "text/plain": [
       "  food_group sub_group  name\n",
       "0   Proteins  Red Meat  beef\n",
       "1   Proteins  Red Meat  goat\n",
       "2   Proteins  Red Meat  lamb\n",
       "3   Proteins  Red Meat  pork\n",
       "4   Proteins  Red Meat  bear"
      ],
      "text/html": [
       "<div>\n",
       "<style scoped>\n",
       "    .dataframe tbody tr th:only-of-type {\n",
       "        vertical-align: middle;\n",
       "    }\n",
       "\n",
       "    .dataframe tbody tr th {\n",
       "        vertical-align: top;\n",
       "    }\n",
       "\n",
       "    .dataframe thead th {\n",
       "        text-align: right;\n",
       "    }\n",
       "</style>\n",
       "<table border=\"1\" class=\"dataframe\">\n",
       "  <thead>\n",
       "    <tr style=\"text-align: right;\">\n",
       "      <th></th>\n",
       "      <th>food_group</th>\n",
       "      <th>sub_group</th>\n",
       "      <th>name</th>\n",
       "    </tr>\n",
       "  </thead>\n",
       "  <tbody>\n",
       "    <tr>\n",
       "      <th>0</th>\n",
       "      <td>Proteins</td>\n",
       "      <td>Red Meat</td>\n",
       "      <td>beef</td>\n",
       "    </tr>\n",
       "    <tr>\n",
       "      <th>1</th>\n",
       "      <td>Proteins</td>\n",
       "      <td>Red Meat</td>\n",
       "      <td>goat</td>\n",
       "    </tr>\n",
       "    <tr>\n",
       "      <th>2</th>\n",
       "      <td>Proteins</td>\n",
       "      <td>Red Meat</td>\n",
       "      <td>lamb</td>\n",
       "    </tr>\n",
       "    <tr>\n",
       "      <th>3</th>\n",
       "      <td>Proteins</td>\n",
       "      <td>Red Meat</td>\n",
       "      <td>pork</td>\n",
       "    </tr>\n",
       "    <tr>\n",
       "      <th>4</th>\n",
       "      <td>Proteins</td>\n",
       "      <td>Red Meat</td>\n",
       "      <td>bear</td>\n",
       "    </tr>\n",
       "  </tbody>\n",
       "</table>\n",
       "</div>"
      ]
     },
     "metadata": {},
     "execution_count": 5
    }
   ],
   "metadata": {}
  },
  {
   "cell_type": "code",
   "execution_count": 6,
   "source": [
    "veg = pd.read_pickle('veg_dataset.pkl')\n",
    "veg.head()"
   ],
   "outputs": [
    {
     "output_type": "execute_result",
     "data": {
      "text/plain": [
       "   food_group   sub_group                 name\n",
       "0  vegetables  dark green      amaranth leaves\n",
       "1  vegetables  dark green                basil\n",
       "2  vegetables  dark green          beet greens\n",
       "3  vegetables  dark green  bitter melon leaves\n",
       "4  vegetables  dark green             bok choy"
      ],
      "text/html": [
       "<div>\n",
       "<style scoped>\n",
       "    .dataframe tbody tr th:only-of-type {\n",
       "        vertical-align: middle;\n",
       "    }\n",
       "\n",
       "    .dataframe tbody tr th {\n",
       "        vertical-align: top;\n",
       "    }\n",
       "\n",
       "    .dataframe thead th {\n",
       "        text-align: right;\n",
       "    }\n",
       "</style>\n",
       "<table border=\"1\" class=\"dataframe\">\n",
       "  <thead>\n",
       "    <tr style=\"text-align: right;\">\n",
       "      <th></th>\n",
       "      <th>food_group</th>\n",
       "      <th>sub_group</th>\n",
       "      <th>name</th>\n",
       "    </tr>\n",
       "  </thead>\n",
       "  <tbody>\n",
       "    <tr>\n",
       "      <th>0</th>\n",
       "      <td>vegetables</td>\n",
       "      <td>dark green</td>\n",
       "      <td>amaranth leaves</td>\n",
       "    </tr>\n",
       "    <tr>\n",
       "      <th>1</th>\n",
       "      <td>vegetables</td>\n",
       "      <td>dark green</td>\n",
       "      <td>basil</td>\n",
       "    </tr>\n",
       "    <tr>\n",
       "      <th>2</th>\n",
       "      <td>vegetables</td>\n",
       "      <td>dark green</td>\n",
       "      <td>beet greens</td>\n",
       "    </tr>\n",
       "    <tr>\n",
       "      <th>3</th>\n",
       "      <td>vegetables</td>\n",
       "      <td>dark green</td>\n",
       "      <td>bitter melon leaves</td>\n",
       "    </tr>\n",
       "    <tr>\n",
       "      <th>4</th>\n",
       "      <td>vegetables</td>\n",
       "      <td>dark green</td>\n",
       "      <td>bok choy</td>\n",
       "    </tr>\n",
       "  </tbody>\n",
       "</table>\n",
       "</div>"
      ]
     },
     "metadata": {},
     "execution_count": 6
    }
   ],
   "metadata": {}
  }
 ]
}