{
 "cells": [
  {
   "cell_type": "code",
   "execution_count": 9,
   "source": [
    "from rasa.cli.utils import get_validated_path\n",
    "from rasa.model import get_model, get_model_subdirectories\n",
    "from rasa.nlu.model import Interpreter\n",
    "\n",
    "\n",
    "def load_interpreter(model_path):\n",
    "    \"\"\"\n",
    "    This loads the Rasa NLU interpreter. It is able to apply all NLU\n",
    "    pipeline steps to a text that you provide it. \n",
    "    \"\"\"\n",
    "    model = get_validated_path(model_path, \"model\")\n",
    "    model_path = get_model(model)\n",
    "    _, nlu_model = get_model_subdirectories(model_path)\n",
    "    return Interpreter.load(nlu_model)\n",
    "\n",
    "nlu_interpreter = load_interpreter(\"models/20210727-120712.tar.gz\")"
   ],
   "outputs": [],
   "metadata": {}
  },
  {
   "cell_type": "code",
   "execution_count": 2,
   "source": [
    "nlu_interpreter.pipeline"
   ],
   "outputs": [
    {
     "output_type": "execute_result",
     "data": {
      "text/plain": [
       "[<rasa.nlu.tokenizers.whitespace_tokenizer.WhitespaceTokenizer at 0x7f093cca8340>,\n",
       " <rasa.nlu.featurizers.sparse_featurizer.regex_featurizer.RegexFeaturizer at 0x7f093cca82e0>,\n",
       " <rasa.nlu.featurizers.sparse_featurizer.lexical_syntactic_featurizer.LexicalSyntacticFeaturizer at 0x7f093cca8a90>,\n",
       " <rasa.nlu.featurizers.dense_featurizer.lm_featurizer.LanguageModelFeaturizer at 0x7f093cca86d0>,\n",
       " <rasa.nlu.featurizers.sparse_featurizer.count_vectors_featurizer.CountVectorsFeaturizer at 0x7f093ab4e2e0>,\n",
       " <rasa.nlu.classifiers.diet_classifier.DIETClassifier at 0x7f09398dfb80>,\n",
       " <rasa.nlu.extractors.entity_synonyms.EntitySynonymMapper at 0x7f09399646d0>,\n",
       " <rasa.nlu.selectors.response_selector.ResponseSelector at 0x7f093cca85b0>,\n",
       " <rasa.nlu.classifiers.fallback_classifier.FallbackClassifier at 0x7f0938cbe0d0>]"
      ]
     },
     "metadata": {},
     "execution_count": 2
    }
   ],
   "metadata": {}
  },
  {
   "cell_type": "code",
   "execution_count": 10,
   "source": [
    "nlu_interpreter.parse(\"give me a recipe for chicken\")"
   ],
   "outputs": [
    {
     "output_type": "stream",
     "name": "stderr",
     "text": [
      "\u001b[93m/user/HS222/xl00751/fyp_env/lib/python3.8/site-packages/rasa/shared/utils/io.py:97: UserWarning: Parsing of message: 'give me a recipe for chicken' lead to overlapping entities: chicken of type proteins extracted by DIETClassifier overlaps with chicken of type proteins extracted by RegexEntityExtractor. This can lead to unintended filling of slots. Please refer to the documentation section on entity extractors and entities getting extracted multiple times:https://rasa.com/docs/rasa/components#entity-extractors\n",
      "\u001b[0m"
     ]
    },
    {
     "output_type": "execute_result",
     "data": {
      "text/plain": [
       "{'text': 'give me a recipe for chicken',\n",
       " 'intent': {'id': -2104428062110031210,\n",
       "  'name': 'ask_recipe',\n",
       "  'confidence': 0.9998382329940796},\n",
       " 'entities': [{'entity': 'proteins',\n",
       "   'start': 21,\n",
       "   'end': 28,\n",
       "   'confidence_entity': 0.9715147018432617,\n",
       "   'value': 'chicken',\n",
       "   'extractor': 'DIETClassifier'},\n",
       "  {'entity': 'proteins',\n",
       "   'start': 21,\n",
       "   'end': 28,\n",
       "   'value': 'chicken',\n",
       "   'extractor': 'RegexEntityExtractor'}],\n",
       " 'intent_ranking': [{'id': -2104428062110031210,\n",
       "   'name': 'ask_recipe',\n",
       "   'confidence': 0.9998382329940796},\n",
       "  {'id': -5088071138205281900,\n",
       "   'name': 'food_safety',\n",
       "   'confidence': 4.804505078936927e-05},\n",
       "  {'id': 7819990717082378314,\n",
       "   'name': 'ask_defrost_safety_meat',\n",
       "   'confidence': 2.4614788344479166e-05},\n",
       "  {'id': -6442360075843601099,\n",
       "   'name': 'ask_food_safety_dairy',\n",
       "   'confidence': 1.9175609850208275e-05},\n",
       "  {'id': -6902353027073290144,\n",
       "   'name': 'ask_food_safety_meat',\n",
       "   'confidence': 1.6863614291651174e-05},\n",
       "  {'id': -5029884845951207813,\n",
       "   'name': 'deny',\n",
       "   'confidence': 1.485653319832636e-05},\n",
       "  {'id': -1895508022469540132,\n",
       "   'name': 'goodbye',\n",
       "   'confidence': 1.2379735380818602e-05},\n",
       "  {'id': -3209610717528746080,\n",
       "   'name': 'ask_food_safety_grains',\n",
       "   'confidence': 9.08011043065926e-06},\n",
       "  {'id': -8312209554615778438,\n",
       "   'name': 'ask_food_safety_seafood',\n",
       "   'confidence': 8.815680303086992e-06},\n",
       "  {'id': 1377418816262398731,\n",
       "   'name': 'ask_food_safety_fruits',\n",
       "   'confidence': 7.97508801042568e-06}],\n",
       " 'response_selector': {'all_retrieval_intents': [],\n",
       "  'default': {'response': {'id': None,\n",
       "    'responses': None,\n",
       "    'response_templates': None,\n",
       "    'confidence': 0.0,\n",
       "    'intent_response_key': None,\n",
       "    'utter_action': 'utter_None',\n",
       "    'template_name': 'utter_None'},\n",
       "   'ranking': []}}}"
      ]
     },
     "metadata": {},
     "execution_count": 10
    }
   ],
   "metadata": {}
  },
  {
   "cell_type": "code",
   "execution_count": 4,
   "source": [
    "nlu_interpreter.parse(\"how can i thaw chicken\")"
   ],
   "outputs": [
    {
     "output_type": "execute_result",
     "data": {
      "text/plain": [
       "{'text': 'how can i thaw chicken',\n",
       " 'intent': {'id': 7819990717082378314,\n",
       "  'name': 'ask_defrost_safety_meat',\n",
       "  'confidence': 0.6873862743377686},\n",
       " 'entities': [],\n",
       " 'intent_ranking': [{'id': 7819990717082378314,\n",
       "   'name': 'ask_defrost_safety_meat',\n",
       "   'confidence': 0.6873862743377686},\n",
       "  {'id': -5029884845951207813,\n",
       "   'name': 'deny',\n",
       "   'confidence': 0.11777570843696594},\n",
       "  {'id': -1895508022469540132,\n",
       "   'name': 'goodbye',\n",
       "   'confidence': 0.054621268063783646},\n",
       "  {'id': -6442360075843601099,\n",
       "   'name': 'ask_food_safety_dairy',\n",
       "   'confidence': 0.050932176411151886},\n",
       "  {'id': -5088071138205281900,\n",
       "   'name': 'food_safety',\n",
       "   'confidence': 0.021731708198785782},\n",
       "  {'id': -9172397493867724954,\n",
       "   'name': 'greet',\n",
       "   'confidence': 0.02025357261300087},\n",
       "  {'id': -3209610717528746080,\n",
       "   'name': 'ask_food_safety_grains',\n",
       "   'confidence': 0.01916535757482052},\n",
       "  {'id': 8471832926138370854,\n",
       "   'name': 'affirm',\n",
       "   'confidence': 0.013332556933164597},\n",
       "  {'id': 3125729717054691266,\n",
       "   'name': 'ask_defrost_safety_cookfromfrozen',\n",
       "   'confidence': 0.009595458395779133},\n",
       "  {'id': 5573086249319824445,\n",
       "   'name': 'healthy_eating',\n",
       "   'confidence': 0.005205964203923941}],\n",
       " 'response_selector': {'all_retrieval_intents': [],\n",
       "  'default': {'response': {'id': None,\n",
       "    'responses': None,\n",
       "    'response_templates': None,\n",
       "    'confidence': 0.0,\n",
       "    'intent_response_key': None,\n",
       "    'utter_action': 'utter_None',\n",
       "    'template_name': 'utter_None'},\n",
       "   'ranking': []}}}"
      ]
     },
     "metadata": {},
     "execution_count": 4
    }
   ],
   "metadata": {}
  },
  {
   "cell_type": "code",
   "execution_count": 33,
   "source": [
    "nlu = []\n",
    "nlu.append(\"- how to thaw (chicken)[proteins]?\")\n",
    "nlu.append(\"- how long does it take to thaw (chicken)[proteins]?\")\n",
    "nlu.append(\"- how to defrost (turkey)[proteins] quickly\")\n",
    "nlu.append(\"- help i forgot to thaw (meat)[proteins]\")\n",
    "nlu.append(\"- can i cook (seafood)[proteins] without defrosting?\")\n",
    "nlu.append(\"- can i cook (pork)[proteins] from frozen?\")\n",
    "nlu.append(\"- can i cook frozen (peppers)[vegetables] without thawing?\")\n",
    "nlu.append(\"- is it ok to put frozen (meat)[proteins] in the oven\")\n",
    "nlu.append(\"- is it fine to steam (fish)[proteins] without thawing\")\n",
    "nlu.append(\"- can i grill frozen (fish)[proteins]\")\n",
    "nlu.append(\"- is it safe to steam frozen (broccoli)[vegetables]\")"
   ],
   "outputs": [],
   "metadata": {}
  },
  {
   "cell_type": "code",
   "execution_count": 29,
   "source": [
    "nlu = [] \n",
    "nlu.append(\"- how to tell if (pork)[proteins] is bad\")\n",
    "nlu.append(\"- has my (meat)[proteins] gone off?\")   "
   ],
   "outputs": [],
   "metadata": {}
  },
  {
   "cell_type": "code",
   "execution_count": 34,
   "source": [
    "import re\n",
    "\n",
    "regex1 = \"^([(.*?)\\)\"\n",
    "regex2 = \"^\\[(.*?)\\]\"\n",
    "\n",
    "for sentence in nlu:\n",
    "    match_value = re.search('\\((.*?)\\)', sentence)\n",
    "    entity_value = match_value.group(1)\n",
    "\n",
    "    match_name = re.search('\\[(.*?)\\]', sentence)\n",
    "    entity_name = match_name.group(1)\n",
    "\n",
    "    sentence.replace('[]', '()')\n",
    "    sentence += '{\\\"entity\\\": \\\"' + entity_name + '\\\", \\\"value\\\": \\\"' + entity_value + '\\\"}'\n",
    "\n",
    "    print(sentence)\n"
   ],
   "outputs": [
    {
     "output_type": "stream",
     "name": "stdout",
     "text": [
      "- how to thaw (mushrooms)[vegetables]?{\"entity\": \"vegetables\", \"value\": \"mushrooms\"}\n",
      "- how to defrost (strawberries)[fruits]{\"entity\": \"fruits\", \"value\": \"strawberries\"}\n",
      "- best way to defrost (bread)[grains]{\"entity\": \"grains\", \"value\": \"bread\"}\n",
      "- i dont know how to thaw (rice)[grains]{\"entity\": \"grains\", \"value\": \"rice\"}\n",
      "- how should i defrost (salmon)[proteins]?{\"entity\": \"proteins\", \"value\": \"salmon\"}\n",
      "- how can i thaw (oysters)[proteins]{\"entity\": \"proteins\", \"value\": \"oysters\"}\n"
     ]
    }
   ],
   "metadata": {}
  }
 ],
 "metadata": {
  "orig_nbformat": 4,
  "language_info": {
   "name": "python",
   "version": "3.8.3",
   "mimetype": "text/x-python",
   "codemirror_mode": {
    "name": "ipython",
    "version": 3
   },
   "pygments_lexer": "ipython3",
   "nbconvert_exporter": "python",
   "file_extension": ".py"
  },
  "kernelspec": {
   "name": "python3",
   "display_name": "Python 3.8.3 64-bit ('fyp_env': venv)"
  },
  "interpreter": {
   "hash": "3a66e419d22504a4501676d1f1397da5fafd72891f52ea32c3057ba7dfe90c5e"
  }
 },
 "nbformat": 4,
 "nbformat_minor": 2
}